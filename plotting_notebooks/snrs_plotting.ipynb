{
 "cells": [
  {
   "cell_type": "code",
   "execution_count": null,
   "id": "initial_id",
   "metadata": {
    "ExecuteTime": {
     "end_time": "2023-11-10T20:13:01.567354Z",
     "start_time": "2023-11-10T20:13:01.524131Z"
    }
   },
   "outputs": [],
   "source": [
    "import datetime\n",
    "import os\n",
    "\n",
    "import torch\n",
    "import numpy as np\n",
    "import matplotlib.pyplot as plt\n",
    "import seaborn as sns\n",
    "from torchmetrics.functional.image import peak_signal_noise_ratio\n",
    "\n",
    "from tqdm import tqdm\n",
    "\n",
    "from utils.dataLoaders import get_rotated_mnist_dataloader\n",
    "from utils.checkpoints import load_gen_disc_from_checkpoint, load_checkpoint, print_checkpoint"
   ]
  },
  {
   "cell_type": "code",
   "execution_count": null,
   "id": "7c510f9064a24c90",
   "metadata": {
    "ExecuteTime": {
     "end_time": "2023-11-10T20:13:01.602275Z",
     "start_time": "2023-11-10T20:13:01.535104Z"
    }
   },
   "outputs": [],
   "source": [
    "def load_regression_results(result_path):\n",
    "    res = torch.load(result_path, map_location='cpu')\n",
    "    path_to_model = res['path_to_model']\n",
    "    generator, _ = load_gen_disc_from_checkpoint(f'../{path_to_model}')\n",
    "    latent_noise = res['latent_noise']\n",
    "    snrs = res['snrs']\n",
    "    losses = res['loss_per_batch']\n",
    "    class_to_search = ['class_to_search']\n",
    "    \n",
    "    print('REGRESSION DETAILS:')\n",
    "    for key, value in res.items():\n",
    "        if not (isinstance(value, torch.Tensor) or isinstance(value, list)):\n",
    "            key = key + ': ' + '.' * (28 - len(key) - 2)\n",
    "            print(f'{key : <28} {value}')\n",
    "    print('\\n')\n",
    "    return generator, latent_noise, snrs, losses, class_to_search\n",
    "\n",
    "\n",
    "def plot_comparison(tar: torch.Tensor, approx: torch.Tensor, title: str):\n",
    "    fig, ax = plt.subplots(1, 2)\n",
    "    ax[0].imshow(tar.detach().cpu().numpy(), cmap='gray')\n",
    "    ax[0].set_title('Target')\n",
    "    ax[1].imshow(approx.detach().cpu().numpy(), cmap='gray')\n",
    "    ax[1].set_title('Approximation')\n",
    "    plt.suptitle(title)\n",
    "    plt.tight_layout()\n",
    "    plt.show()"
   ]
  },
  {
   "cell_type": "code",
   "execution_count": null,
   "id": "107103238b126fa9",
   "metadata": {
    "ExecuteTime": {
     "end_time": "2023-11-10T20:13:02.682534Z",
     "start_time": "2023-11-10T20:13:01.541838Z"
    }
   },
   "outputs": [],
   "source": [
    "res_path = '../regressions/2023-11-10_21:01:43_vanilla_small'\n",
    "gen, latent_noise, snrs, losses, class_to_search = load_regression_results(res_path)\n",
    "\n",
    "_, new_loader = get_rotated_mnist_dataloader(root='..',\n",
    "                                             batch_size=latent_noise.shape[0],\n",
    "                                             shuffle=False,\n",
    "                                             one_hot_encode=True,\n",
    "                                             num_examples=10000,\n",
    "                                             num_rotations=0,\n",
    "                                             train=False)\n",
    "\n",
    "\n",
    "all_targets, all_labels = next(iter(new_loader))"
   ]
  },
  {
   "cell_type": "code",
   "execution_count": null,
   "id": "400b10b54f4b631a",
   "metadata": {
    "ExecuteTime": {
     "end_time": "2023-11-10T20:13:02.969396Z",
     "start_time": "2023-11-10T20:13:02.686937Z"
    }
   },
   "outputs": [],
   "source": [
    "snrs_numpy = snrs.numpy()\n",
    "sns.histplot(snrs_numpy)\n",
    "plt.title(f'Histogram of PSNRs\\nAll digits\\nTotal number of examples: {len(snrs_numpy)}')\n",
    "plt.xlabel('PSNR values')\n",
    "plt.show()"
   ]
  },
  {
   "cell_type": "code",
   "execution_count": null,
   "id": "16416a64b3af3e72",
   "metadata": {
    "ExecuteTime": {
     "end_time": "2023-11-10T20:13:03.551595Z",
     "start_time": "2023-11-10T20:13:02.969772Z"
    }
   },
   "outputs": [],
   "source": [
    "idx_worst_snr = torch.argmin(snrs).item()\n",
    "idx_best_snr = torch.argmax(snrs).item()\n",
    "\n",
    "worst_approx = gen(latent_noise[idx_worst_snr].unsqueeze(0), all_labels[idx_worst_snr].unsqueeze(0))\n",
    "best_approx = gen(latent_noise[idx_best_snr].unsqueeze(0), all_labels[idx_best_snr].unsqueeze(0))\n",
    "\n",
    "plot_comparison(all_targets[idx_worst_snr, 0], worst_approx[0, 0],\n",
    "                title=f'Worst approximation. SNR: {snrs[idx_worst_snr].item():.2f}')\n",
    "plot_comparison(all_targets[idx_best_snr, 0], best_approx[0, 0],\n",
    "                title=f'Best approximation. SNR: {snrs[idx_best_snr].item():.2f}')"
   ]
  },
  {
   "cell_type": "code",
   "execution_count": null,
   "id": "30b774f5752b47a6",
   "metadata": {
    "ExecuteTime": {
     "end_time": "2023-11-10T20:13:11.039218Z",
     "start_time": "2023-11-10T20:13:03.549476Z"
    }
   },
   "outputs": [],
   "source": [
    "labels_decoded = torch.argmax(all_labels, dim=1)\n",
    "total_num_examples = 0\n",
    "for c in range(10):\n",
    "    class_indices = torch.where(labels_decoded == c)[0].numpy()\n",
    "    single_class_snrs = snrs_numpy[class_indices]\n",
    "    num_examples = len(single_class_snrs)\n",
    "    \n",
    "    sns.histplot(single_class_snrs)\n",
    "    plt.title(f'Histogram of PSNRs\\nDigit: {c}\\nTotal number of examples: {num_examples}')\n",
    "    plt.xlabel('PSNR values')\n",
    "    plt.show()\n",
    "    \n",
    "    total_num_examples += num_examples\n",
    "    \n",
    "    class_targets = all_targets[class_indices]\n",
    "    class_inputs = latent_noise[class_indices]\n",
    "    class_labels = all_labels[class_indices]\n",
    "    \n",
    "    \n",
    "    i_best = np.argmax(single_class_snrs)\n",
    "    i_worst = np.argmin(single_class_snrs)\n",
    "    best_approx = gen(class_inputs[i_best].unsqueeze(0), class_labels[i_best].unsqueeze(0))\n",
    "    worst_approx = gen(class_inputs[i_worst].unsqueeze(0), class_labels[i_worst].unsqueeze(0))\n",
    "    \n",
    "    plot_comparison(tar=class_targets[i_worst, 0], approx=worst_approx[0, 0],\n",
    "                title=f'Worst approximation. SNR: {single_class_snrs[i_worst]:.2f}')\n",
    "    plot_comparison(tar=class_targets[i_best, 0], approx=best_approx[0, 0],\n",
    "                title=f'Best approximation. SNR: {single_class_snrs[i_best]:.2f}')\n",
    "    \n",
    "    print(f'best snr: {single_class_snrs[i_best]}')\n",
    "\n",
    "assert (total_num_examples == all_targets.shape[0])\n",
    "print(f'total number of examples: {total_num_examples}')\n",
    "    "
   ]
  },
  {
   "cell_type": "code",
   "execution_count": null,
   "id": "4883c69ecd183bb1",
   "metadata": {
    "ExecuteTime": {
     "end_time": "2023-11-10T20:13:11.047472Z",
     "start_time": "2023-11-10T20:13:11.039812Z"
    }
   },
   "outputs": [],
   "source": [
    "class_inputs"
   ]
  },
  {
   "cell_type": "code",
   "execution_count": null,
   "id": "4cfbde05d6b0dfd0",
   "metadata": {
    "ExecuteTime": {
     "end_time": "2023-11-10T20:13:11.051516Z",
     "start_time": "2023-11-10T20:13:11.047832Z"
    }
   },
   "outputs": [],
   "source": []
  }
 ],
 "metadata": {
  "kernelspec": {
   "display_name": "Python 3",
   "language": "python",
   "name": "python3"
  },
  "language_info": {
   "codemirror_mode": {
    "name": "ipython",
    "version": 2
   },
   "file_extension": ".py",
   "mimetype": "text/x-python",
   "name": "python",
   "nbconvert_exporter": "python",
   "pygments_lexer": "ipython2",
   "version": "2.7.6"
  }
 },
 "nbformat": 4,
 "nbformat_minor": 5
}
