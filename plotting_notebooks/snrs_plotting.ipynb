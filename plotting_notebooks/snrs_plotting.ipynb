{
 "cells": [
  {
   "cell_type": "code",
   "execution_count": null,
   "id": "initial_id",
   "metadata": {
    "ExecuteTime": {
     "end_time": "2023-11-12T15:30:30.239521Z",
     "start_time": "2023-11-12T15:30:28.692338Z"
    }
   },
   "outputs": [],
   "source": [
    "import datetime\n",
    "import os\n",
    "\n",
    "import torch\n",
    "import numpy as np\n",
    "import matplotlib.pyplot as plt\n",
    "import seaborn as sns\n",
    "from torchmetrics.functional.image import peak_signal_noise_ratio\n",
    "\n",
    "from tqdm import tqdm\n",
    "\n",
    "from utils.dataLoaders import get_rotated_mnist_dataloader\n",
    "from utils.checkpoints import load_gen_disc_from_checkpoint, load_checkpoint, print_checkpoint"
   ]
  },
  {
   "cell_type": "code",
   "execution_count": null,
   "id": "7c510f9064a24c90",
   "metadata": {
    "ExecuteTime": {
     "end_time": "2023-11-12T15:30:30.306857Z",
     "start_time": "2023-11-12T15:30:30.282221Z"
    }
   },
   "outputs": [],
   "source": [
    "def load_regression_results(result_path):\n",
    "    res = torch.load(result_path, map_location='cpu')\n",
    "    path_to_model = res['path_to_model']\n",
    "    generator, _ = load_gen_disc_from_checkpoint(f'../{path_to_model}')\n",
    "    latent_noise = res['latent_noise']\n",
    "    snrs = res['snrs']\n",
    "    losses = res['loss_per_batch']\n",
    "    class_to_search = ['class_to_search']\n",
    "    \n",
    "    print('REGRESSION DETAILS:')\n",
    "    for key, value in res.items():\n",
    "        if not (isinstance(value, torch.Tensor) or isinstance(value, list)):\n",
    "            key = key + ': ' + '.' * (28 - len(key) - 2)\n",
    "            print(f'{key : <28} {value}')\n",
    "    print('\\n')\n",
    "    return generator, latent_noise, snrs, losses, class_to_search\n",
    "\n",
    "\n",
    "def plot_comparison(tar: torch.Tensor, approx: torch.Tensor, title: str):\n",
    "    fig, ax = plt.subplots(1, 2)\n",
    "    ax[0].imshow(tar.detach().squeeze().cpu().numpy(), cmap='gray')\n",
    "    ax[0].set_title('Target')\n",
    "    ax[1].imshow(approx.detach().squeeze().cpu().numpy(), cmap='gray')\n",
    "    ax[1].set_title('Approximation')\n",
    "    plt.suptitle(title)\n",
    "    plt.tight_layout()\n",
    "    plt.show()\n",
    "    \n",
    "\n",
    "def single_class_plot(hist_data, tar_best, approx_best, snr_best, tar_worst, approx_worst, snr_worst, digit, title=''):\n",
    "    \"\"\"\n",
    "    Plot histogram as well as best and worst approximation for a digit\n",
    "    :param hist_data: numpy array containing PSNR values\n",
    "    :param tar_best: target image of best approx\n",
    "    :param approx_best: image of best approx\n",
    "    :param snr_best: snr of best approx\n",
    "    :param tar_worst: target image of worst approx\n",
    "    :param approx_worst: image of worst approx\n",
    "    :param snr_worst: snr of worst approx\n",
    "    :param digit: digit to plot\n",
    "    :param title: title for plot\n",
    "    :return: -\n",
    "    \"\"\"\n",
    "    plt.figure(figsize=(12, 6))\n",
    "    ax1 = plt.subplot(1, 2, 1)\n",
    "    ax2 = plt.subplot(2, 4, 3)\n",
    "    ax3 = plt.subplot(2, 4, 4)\n",
    "    ax4 = plt.subplot(2, 4, 7)\n",
    "    ax5 = plt.subplot(2, 4, 8)\n",
    "    axes = [ax1, ax2, ax3, ax4, ax5]\n",
    "    sns.histplot(ax=axes[0], data=hist_data, kde=True)\n",
    "    axes[0].set_xlabel('PSNR')\n",
    "    axes[0].set_ylabel('Count')\n",
    "    axes[0].set_title(f'Histogram of PSNR\\nNumber of examplse: {len(hist_data)}\\nMean: {np.mean(hist_data):.2f}')\n",
    "    axes[1].imshow(tar_best.detach().squeeze().cpu().numpy(), cmap='gray')\n",
    "    axes[1].set_title('Target best')\n",
    "    axes[2].imshow(approx_best.detach().squeeze().cpu().numpy(), cmap='gray')\n",
    "    axes[2].set_title(f'Best approx, PSNR: {snr_best:.2f}')\n",
    "    axes[3].imshow(tar_worst.detach().squeeze().cpu().numpy(), cmap='gray')\n",
    "    axes[3].set_title('Target worst')\n",
    "    axes[4].imshow(approx_worst.detach().squeeze().cpu().numpy(), cmap='gray')\n",
    "    axes[4].set_title(f'Worst approx, PSNR: {snr_worst:.2f}')\n",
    "    \n",
    "    for i in range(1, 5):\n",
    "        axes[i].grid(False)\n",
    "    \n",
    "    plt.suptitle(f'{title} DIGIT: {digit}', fontsize='x-large', ha='left')\n",
    "    plt.show()"
   ]
  },
  {
   "cell_type": "code",
   "execution_count": null,
   "id": "107103238b126fa9",
   "metadata": {
    "ExecuteTime": {
     "end_time": "2023-11-12T15:30:31.164436Z",
     "start_time": "2023-11-12T15:30:30.309553Z"
    }
   },
   "outputs": [],
   "source": [
    "#p4_multi_start = '../regressions/2023-11-11_13:17:20_p4_rot_mnist'\n",
    "#z2_multi_start = '../regressions/2023-11-11_15:27:29_z2_rot_mnist'\n",
    "#vanilla_multi_start = '../regressions/2023-11-11_12:12:48_vanilla_small'\n",
    "\n",
    "p4_multi_start = '../regressions/2023-11-12_11:25:44_p4_rot_mnist'\n",
    "z2_multi_start = '../regressions/2023-11-12_12:48:22_z2_rot_mnist'\n",
    "vanilla_multi_start = '../regressions/2023-11-12_12:08:04_vanilla_small'\n",
    "\n",
    "\n",
    "#p4_single_start = '../regressions/2023-11-10_12:35:35_p4_rot_mnist'\n",
    "#z2_single_start = '../regressions/2023-11-10_20:56:21_z2_rot_mnist'\n",
    "#vanilla_single_start = '../regressions/2023-11-10_21:01:43_vanilla_small'\n",
    "\n",
    "p4_single_start = '../regressions/2023-11-11_13:17:20_p4_rot_mnist'\n",
    "z2_single_start = '../regressions/2023-11-11_15:27:29_z2_rot_mnist'\n",
    "vanilla_single_start = '../regressions/2023-11-11_12:12:48_vanilla_small'\n",
    "\n",
    "\n",
    "p4_gen, p4_inputs, p4_snrs_multi, _, _ = load_regression_results(p4_multi_start)\n",
    "_, _, p4_snrs_single, _, _ = load_regression_results(p4_single_start)\n",
    "\n",
    "z2_gen, z2_inputs, z2_snrs_multi, _, _ = load_regression_results(z2_multi_start)\n",
    "_, _, z2_snrs_single, _, _ = load_regression_results(z2_single_start)\n",
    "\n",
    "van_gen, van_inputs, van_snrs_multi, _, _ = load_regression_results(vanilla_multi_start)\n",
    "_, _, van_snrs_single, _, _ = load_regression_results(vanilla_single_start)\n",
    "\n",
    "_, new_loader = get_rotated_mnist_dataloader(root='..',\n",
    "                                             batch_size=p4_inputs.shape[0],\n",
    "                                             shuffle=False,\n",
    "                                             one_hot_encode=True,\n",
    "                                             num_examples=10000,\n",
    "                                             num_rotations=0,\n",
    "                                             train=False)\n",
    "\n",
    "\n",
    "all_targets, all_labels = next(iter(new_loader))"
   ]
  },
  {
   "cell_type": "code",
   "execution_count": null,
   "id": "400b10b54f4b631a",
   "metadata": {
    "ExecuteTime": {
     "end_time": "2023-11-12T15:30:31.170983Z",
     "start_time": "2023-11-12T15:30:31.165636Z"
    }
   },
   "outputs": [],
   "source": [
    "def plot_single_vs_multi_start(multi_start_snrs, single_start_snrs, gen_arch):\n",
    "    if isinstance(multi_start_snrs, torch.Tensor):\n",
    "        multi_start_snrs = multi_start_snrs.numpy()\n",
    "    if isinstance(single_start_snrs, torch.Tensor):\n",
    "        single_start_snrs = single_start_snrs.numpy()\n",
    "    single_mean = np.mean(single_start_snrs)\n",
    "    multi_mean = np.mean(multi_start_snrs)\n",
    "    data = {'With 128 start pos': multi_start_snrs, 'Start at 0': single_start_snrs}\n",
    "    sns.displot(data=data, kde=True)\n",
    "    plt.title(f'{gen_arch}\\nAll digits\\nTotal number of examples: {len(multi_start_snrs)}\\nMeans: {single_mean:.2f} and {multi_mean:.2f}')\n",
    "    plt.xlabel('PSNR values')\n",
    "    plt.show()"
   ]
  },
  {
   "cell_type": "code",
   "execution_count": null,
   "id": "f2606e855ca2aefb",
   "metadata": {
    "ExecuteTime": {
     "end_time": "2023-11-12T15:30:32.420355Z",
     "start_time": "2023-11-12T15:30:31.169008Z"
    }
   },
   "outputs": [],
   "source": [
    "plot_single_vs_multi_start(\n",
    "    multi_start_snrs=p4_snrs_multi, single_start_snrs=p4_snrs_single, gen_arch='p4_rot_mnist'\n",
    ")\n",
    "plot_single_vs_multi_start(\n",
    "    multi_start_snrs=z2_snrs_multi, single_start_snrs=z2_snrs_single, gen_arch='z2_rot_mnist'\n",
    ")\n",
    "plot_single_vs_multi_start(\n",
    "    multi_start_snrs=van_snrs_multi, single_start_snrs=van_snrs_single, gen_arch='vanilla'\n",
    ")"
   ]
  },
  {
   "cell_type": "code",
   "execution_count": null,
   "id": "3fcb4e8bddf525e3",
   "metadata": {
    "ExecuteTime": {
     "end_time": "2023-11-12T15:30:33.196162Z",
     "start_time": "2023-11-12T15:30:32.417235Z"
    }
   },
   "outputs": [],
   "source": [
    "def plot_hist_three_archs(p4_snrs, z2_snrs, van_snrs, title=''):\n",
    "    if isinstance(p4_snrs, torch.Tensor):\n",
    "        p4_snrs = p4_snrs.numpy()\n",
    "    if isinstance(z2_snrs, torch.Tensor):\n",
    "        z2_snrs = z2_snrs.numpy()\n",
    "    if isinstance(van_snrs, torch.Tensor):\n",
    "        van_snrs = van_snrs.numpy()\n",
    "\n",
    "\n",
    "    data = {'p4_rot_mnist': p4_snrs, 'z2_rot_mnist': z2_snrs, 'vanilla': van_snrs}\n",
    "    fig, ax = plt.subplots(1, 2, figsize=(12, 6))\n",
    "    sns.histplot(ax=ax[0], data=data, kde=True)\n",
    "    sns.kdeplot(ax=ax[1], data=data)\n",
    "    plt.suptitle(f'{title}')\n",
    "    ax[0].set_xlabel('PSNR values')\n",
    "    ax[1].set_xlabel('PSNR values')\n",
    "    plt.show()\n",
    "plot_hist_three_archs(p4_snrs_multi, z2_snrs_multi, van_snrs_multi, 'All digits (10000 examples)\\n128 start positions')"
   ]
  },
  {
   "cell_type": "code",
   "execution_count": null,
   "id": "16416a64b3af3e72",
   "metadata": {
    "ExecuteTime": {
     "end_time": "2023-11-12T15:30:34.806013Z",
     "start_time": "2023-11-12T15:30:33.193431Z"
    }
   },
   "outputs": [],
   "source": [
    "def plot_hist_best_worst_approx(snrs, generator, input_noise, labels, gen_arch=''):\n",
    "    if isinstance(snrs, np.ndarray):\n",
    "        snrs = torch.from_numpy(snrs)\n",
    "    idx_worst_snr = torch.argmin(snrs).item()\n",
    "    idx_best_snr = torch.argmax(snrs).item()\n",
    "    \n",
    "    worst_approx = generator(input_noise[idx_worst_snr].unsqueeze(0), labels[idx_worst_snr].unsqueeze(0))\n",
    "    best_approx = generator(input_noise[idx_best_snr].unsqueeze(0), labels[idx_best_snr].unsqueeze(0))\n",
    "    \n",
    "    single_class_plot(hist_data=snrs.numpy(),\n",
    "                      tar_best=all_targets[idx_best_snr],\n",
    "                      approx_best=best_approx,\n",
    "                      snr_best=snrs.numpy()[idx_best_snr],\n",
    "                      tar_worst=all_targets[idx_worst_snr],\n",
    "                      approx_worst=worst_approx,\n",
    "                      snr_worst=snrs.numpy()[idx_worst_snr],\n",
    "                      digit='ALL',\n",
    "                      title=f'ARCH: {gen_arch},')\n",
    "plot_hist_best_worst_approx(p4_snrs_multi, p4_gen, p4_inputs, all_labels, gen_arch='p4_rot_mnist')\n",
    "plot_hist_best_worst_approx(z2_snrs_multi, z2_gen, z2_inputs, all_labels, gen_arch='z2_rot_mnist')\n",
    "plot_hist_best_worst_approx(van_snrs_multi, van_gen, van_inputs, all_labels, gen_arch='vanilla')"
   ]
  },
  {
   "cell_type": "code",
   "execution_count": null,
   "id": "30b774f5752b47a6",
   "metadata": {
    "ExecuteTime": {
     "end_time": "2023-11-12T15:30:35.730471Z",
     "start_time": "2023-11-12T15:30:34.812721Z"
    }
   },
   "outputs": [],
   "source": [
    "def prepare_data_for_each_digit(snrs, generator, input_noise, labels):\n",
    "    '''\n",
    "    PREPARE DATA FOR EACH DIGIT\n",
    "    '''\n",
    "    if isinstance(snrs, torch.Tensor):\n",
    "        snrs = snrs.numpy()\n",
    "        \n",
    "    labels_decoded = torch.argmax(labels, dim=1)\n",
    "    total_num_examples = 0\n",
    "    snrs_per_digit = []\n",
    "    worst_approximations = [] # tuples (target, approx, snr)\n",
    "    best_approximations = [] # tuples (target, approx, snr)\n",
    "    means = []\n",
    "    \n",
    "    # loop though digits\n",
    "    for c in range(10):\n",
    "        # extract indices of current digit\n",
    "        class_indices = torch.where(labels_decoded == c)[0].numpy()\n",
    "        \n",
    "        # extract snrs\n",
    "        single_class_snrs = snrs[class_indices]\n",
    "        num_examples = len(single_class_snrs)\n",
    "        mean_curr_class = np.mean(single_class_snrs)\n",
    "        \n",
    "        means.append(mean_curr_class)\n",
    "        snrs_per_digit.append(single_class_snrs)\n",
    "        \n",
    "        # extract targets, latent noise and labels for current digit\n",
    "        class_targets = all_targets[class_indices]\n",
    "        class_inputs = input_noise[class_indices]\n",
    "        class_labels = all_labels[class_indices]\n",
    "        \n",
    "        # find and generate best and worst approximation\n",
    "        i_best = np.argmax(single_class_snrs)\n",
    "        i_worst = np.argmin(single_class_snrs)\n",
    "        best_approx = generator(class_inputs[i_best].unsqueeze(0), class_labels[i_best].unsqueeze(0))\n",
    "        worst_approx = generator(class_inputs[i_worst].unsqueeze(0), class_labels[i_worst].unsqueeze(0))\n",
    "        \n",
    "        # append tuples (target, approx, snr)\n",
    "        worst_approximations.append((class_targets[i_worst, 0], worst_approx[0, 0], single_class_snrs[i_worst]))\n",
    "        best_approximations.append((class_targets[i_best, 0], best_approx[0, 0], single_class_snrs[i_best]))\n",
    "        \n",
    "        total_num_examples += num_examples\n",
    "    assert (total_num_examples == all_targets.shape[0])\n",
    "    return snrs_per_digit, best_approximations, worst_approximations\n",
    "\n",
    "p4_per_digit = prepare_data_for_each_digit(p4_snrs_multi, p4_gen, p4_inputs, all_labels)\n",
    "z2_per_digit = prepare_data_for_each_digit(z2_snrs_multi, z2_gen, z2_inputs, all_labels)\n",
    "van_per_digit = prepare_data_for_each_digit(van_snrs_multi, van_gen, van_inputs, all_labels)"
   ]
  },
  {
   "cell_type": "code",
   "execution_count": null,
   "id": "13fed55317e902a2",
   "metadata": {
    "ExecuteTime": {
     "end_time": "2023-11-12T15:30:37.129596Z",
     "start_time": "2023-11-12T15:30:35.741266Z"
    }
   },
   "outputs": [],
   "source": [
    "def plot_dist_each_digit(snrs_list, gen_arch='?'):\n",
    "    fig, axes = plt.subplots(1, 2, figsize=(10, 8))\n",
    "    sns.violinplot(data=snrs_list, orient='h', split=True, ax=axes[0])\n",
    "    axes[0].set_xlabel('PSNR')\n",
    "    axes[0].set_ylabel('Digit')\n",
    "    sns.kdeplot(data=snrs_list, ax=axes[1])\n",
    "    axes[1].set_xlabel('PSNR')\n",
    "    plt.ylabel('')\n",
    "    plt.suptitle(f'gen_arch: {gen_arch}')\n",
    "    plt.show()\n",
    "\n",
    "plot_dist_each_digit(p4_per_digit[0], 'p4_rot_mnist')\n",
    "plot_dist_each_digit(z2_per_digit[0], 'z2_rot_mnist')\n",
    "plot_dist_each_digit(van_per_digit[0], 'vanilla')"
   ]
  },
  {
   "cell_type": "code",
   "execution_count": null,
   "id": "4cfbde05d6b0dfd0",
   "metadata": {
    "ExecuteTime": {
     "end_time": "2023-11-12T15:30:41.548098Z",
     "start_time": "2023-11-12T15:30:37.129184Z"
    }
   },
   "outputs": [],
   "source": [
    "def plot_histogram_best_worst_each_digit(snr_list, b_approximations, w_approximations, gen_arch='?'):\n",
    "    '''\n",
    "    PLOT HISTOGRAM, BEST AND WORST APPROXIMATION FOR EACH DIGIT\n",
    "    '''\n",
    "    for c in range(10):\n",
    "        tar_worst, approx_worst, snr_worst = w_approximations[c]\n",
    "        tar_best, approx_best, snr_best = b_approximations[c]\n",
    "        single_class_plot(hist_data=snr_list[c],\n",
    "                          tar_best=tar_best,\n",
    "                          approx_best=approx_best,\n",
    "                          snr_best=snr_best,\n",
    "                          tar_worst=tar_worst,\n",
    "                          approx_worst=approx_worst,\n",
    "                          snr_worst=snr_worst,\n",
    "                          digit=c, \n",
    "                          title=f'ARCH: {gen_arch},')    \n",
    "#plot_histogram_best_worst_each_digit(p4_per_digit[0], p4_per_digit[1], p4_per_digit[2], 'p4_rot_mnist')\n",
    "#plot_histogram_best_worst_each_digit(z2_per_digit[0], z2_per_digit[1], z2_per_digit[2], 'z2_rot_mnist')\n",
    "plot_histogram_best_worst_each_digit(van_per_digit[0], van_per_digit[1], van_per_digit[2], 'vanilla')"
   ]
  },
  {
   "cell_type": "code",
   "execution_count": null,
   "id": "2564925728f66f20",
   "metadata": {
    "ExecuteTime": {
     "end_time": "2023-11-12T15:30:41.552801Z",
     "start_time": "2023-11-12T15:30:41.548465Z"
    }
   },
   "outputs": [],
   "source": [
    "thresh_l = 20\n",
    "print(f'p4 #SNRS < {thresh_l}: {torch.sum(p4_snrs_multi < thresh_l)}')\n",
    "print(f'z2 #SNRS < {thresh_l}: {torch.sum(z2_snrs_multi < thresh_l)}')\n",
    "print(f'va #SNRS < {thresh_l}: {torch.sum(van_snrs_multi < thresh_l)}')"
   ]
  },
  {
   "cell_type": "code",
   "execution_count": null,
   "id": "76bec2d94c9ec516",
   "metadata": {
    "ExecuteTime": {
     "end_time": "2023-11-12T15:30:41.557984Z",
     "start_time": "2023-11-12T15:30:41.553344Z"
    }
   },
   "outputs": [],
   "source": [
    "thresh_u = 30\n",
    "print(f'p4 #SNRS > {thresh_u}: {torch.sum(p4_snrs_multi > thresh_u)}')\n",
    "print(f'z2 #SNRS > {thresh_u}: {torch.sum(z2_snrs_multi > thresh_u)}')\n",
    "print(f'va #SNRS > {thresh_u}: {torch.sum(van_snrs_multi > thresh_u)}')"
   ]
  },
  {
   "cell_type": "code",
   "execution_count": null,
   "id": "f8973fe50734750e",
   "metadata": {
    "ExecuteTime": {
     "end_time": "2023-11-12T15:30:41.561521Z",
     "start_time": "2023-11-12T15:30:41.558144Z"
    }
   },
   "outputs": [],
   "source": []
  }
 ],
 "metadata": {
  "kernelspec": {
   "display_name": "Python 3 (ipykernel)",
   "language": "python",
   "name": "python3"
  },
  "language_info": {
   "codemirror_mode": {
    "name": "ipython",
    "version": 3
   },
   "file_extension": ".py",
   "mimetype": "text/x-python",
   "name": "python",
   "nbconvert_exporter": "python",
   "pygments_lexer": "ipython3",
   "version": "3.10.13"
  }
 },
 "nbformat": 4,
 "nbformat_minor": 5
}
