{
 "cells": [
  {
   "cell_type": "code",
   "execution_count": null,
   "id": "initial_id",
   "metadata": {
    "ExecuteTime": {
     "end_time": "2023-11-11T13:42:44.270715Z",
     "start_time": "2023-11-11T13:42:44.254376Z"
    }
   },
   "outputs": [],
   "source": [
    "import datetime\n",
    "import os\n",
    "\n",
    "import torch\n",
    "import numpy as np\n",
    "import matplotlib.pyplot as plt\n",
    "import seaborn as sns\n",
    "from torchmetrics.functional.image import peak_signal_noise_ratio\n",
    "\n",
    "from tqdm import tqdm\n",
    "\n",
    "from utils.dataLoaders import get_rotated_mnist_dataloader\n",
    "from utils.checkpoints import load_gen_disc_from_checkpoint, load_checkpoint, print_checkpoint"
   ]
  },
  {
   "cell_type": "code",
   "execution_count": null,
   "id": "7c510f9064a24c90",
   "metadata": {
    "ExecuteTime": {
     "end_time": "2023-11-11T13:42:44.270983Z",
     "start_time": "2023-11-11T13:42:44.261457Z"
    }
   },
   "outputs": [],
   "source": [
    "def load_regression_results(result_path):\n",
    "    res = torch.load(result_path, map_location='cpu')\n",
    "    path_to_model = res['path_to_model']\n",
    "    generator, _ = load_gen_disc_from_checkpoint(f'../{path_to_model}')\n",
    "    latent_noise = res['latent_noise']\n",
    "    snrs = res['snrs']\n",
    "    losses = res['loss_per_batch']\n",
    "    class_to_search = ['class_to_search']\n",
    "    \n",
    "    print('REGRESSION DETAILS:')\n",
    "    for key, value in res.items():\n",
    "        if not (isinstance(value, torch.Tensor) or isinstance(value, list)):\n",
    "            key = key + ': ' + '.' * (28 - len(key) - 2)\n",
    "            print(f'{key : <28} {value}')\n",
    "    print('\\n')\n",
    "    return generator, latent_noise, snrs, losses, class_to_search\n",
    "\n",
    "\n",
    "def plot_comparison(tar: torch.Tensor, approx: torch.Tensor, title: str):\n",
    "    fig, ax = plt.subplots(1, 2)\n",
    "    ax[0].imshow(tar.detach().squeeze().cpu().numpy(), cmap='gray')\n",
    "    ax[0].set_title('Target')\n",
    "    ax[1].imshow(approx.detach().squeeze().cpu().numpy(), cmap='gray')\n",
    "    ax[1].set_title('Approximation')\n",
    "    plt.suptitle(title)\n",
    "    plt.tight_layout()\n",
    "    plt.show()\n",
    "    \n",
    "\n",
    "def single_class_plot(hist_data, tar_best, approx_best, snr_best, tar_worst, approx_worst, snr_worst, digit):\n",
    "    \"\"\"\n",
    "    Plot histogram as well as best and worst approximation for a digit\n",
    "    :param hist_data: numpy array containing PSNR values\n",
    "    :param tar_best: target image of best approx\n",
    "    :param approx_best: image of best approx\n",
    "    :param snr_best: snr of best approx\n",
    "    :param tar_worst: target image of worst approx\n",
    "    :param approx_worst: image of worst approx\n",
    "    :param snr_worst: snr of worst approx\n",
    "    :param digit: digit to plot\n",
    "    :return: -\n",
    "    \"\"\"\n",
    "    plt.figure(figsize=(12, 6))\n",
    "    ax1 = plt.subplot(1, 2, 1)\n",
    "    ax2 = plt.subplot(2, 4, 3)\n",
    "    ax3 = plt.subplot(2, 4, 4)\n",
    "    ax4 = plt.subplot(2, 4, 7)\n",
    "    ax5 = plt.subplot(2, 4, 8)\n",
    "    axes = [ax1, ax2, ax3, ax4, ax5]\n",
    "    sns.histplot(ax=axes[0], data=hist_data, kde=True)\n",
    "    axes[0].set_xlabel('PSNR')\n",
    "    axes[0].set_ylabel('Count')\n",
    "    axes[0].set_title(f'Histogram of PSNR\\nNumber of examplse: {len(hist_data)}\\nMean: {np.mean(hist_data):.2f}')\n",
    "    axes[1].imshow(tar_best.detach().squeeze().cpu().numpy(), cmap='gray')\n",
    "    axes[1].set_title('Target best')\n",
    "    axes[2].imshow(approx_best.detach().squeeze().cpu().numpy(), cmap='gray')\n",
    "    axes[2].set_title(f'Best approx, PSNR: {snr_best:.2f}')\n",
    "    axes[3].imshow(tar_worst.detach().squeeze().cpu().numpy(), cmap='gray')\n",
    "    axes[3].set_title('Target worst')\n",
    "    axes[4].imshow(approx_worst.detach().squeeze().cpu().numpy(), cmap='gray')\n",
    "    axes[4].set_title(f'Worst approx, PSNR: {snr_worst:.2f}')\n",
    "    \n",
    "    for i in range(1, 5):\n",
    "        axes[i].grid(False)\n",
    "    \n",
    "    plt.suptitle(f'DIGIT: {digit}', fontsize='xx-large')\n",
    "    plt.show()"
   ]
  },
  {
   "cell_type": "code",
   "execution_count": null,
   "id": "107103238b126fa9",
   "metadata": {
    "ExecuteTime": {
     "end_time": "2023-11-11T13:42:44.772276Z",
     "start_time": "2023-11-11T13:42:44.264496Z"
    }
   },
   "outputs": [],
   "source": [
    "res_path = '../regressions/2023-11-11_13:17:20_p4_rot_mnist'\n",
    "#res_path = '../regressions/2023-11-11_12:12:48_vanilla_small'\n",
    "gen, latent_noise, snrs, losses, class_to_search = load_regression_results(res_path)\n",
    "\n",
    "res_path2 = '../regressions/2023-11-10_12:35:35_p4_rot_mnist'\n",
    "#res_path2 = '../regressions/2023-11-10_21:01:43_vanilla_small'\n",
    "gen2, latent_noise2, snrs2, losses2, class_to_search2 = load_regression_results(res_path2)\n",
    "\n",
    "_, new_loader = get_rotated_mnist_dataloader(root='..',\n",
    "                                             batch_size=latent_noise.shape[0],\n",
    "                                             shuffle=False,\n",
    "                                             one_hot_encode=True,\n",
    "                                             num_examples=10000,\n",
    "                                             num_rotations=0,\n",
    "                                             train=False)\n",
    "\n",
    "\n",
    "all_targets, all_labels = next(iter(new_loader))"
   ]
  },
  {
   "cell_type": "code",
   "execution_count": null,
   "id": "400b10b54f4b631a",
   "metadata": {
    "ExecuteTime": {
     "end_time": "2023-11-11T13:42:45.510907Z",
     "start_time": "2023-11-11T13:42:44.773419Z"
    }
   },
   "outputs": [],
   "source": [
    "snrs_numpy = snrs.numpy()\n",
    "snrs_numpy2 = snrs2.numpy()\n",
    "mean_overall_snr = np.mean(snrs_numpy)\n",
    "data = {'With 128 start pos': snrs_numpy, 'Start at 0': snrs_numpy2}\n",
    "sns.displot(data=data, kde=True)\n",
    "plt.title(f'Histogram of PSNRs\\nAll digits\\nTotal number of examples: {len(snrs_numpy)}\\nMean: {mean_overall_snr:.2f}')\n",
    "plt.xlabel('PSNR values')\n",
    "plt.show()"
   ]
  },
  {
   "cell_type": "code",
   "execution_count": null,
   "id": "16416a64b3af3e72",
   "metadata": {
    "ExecuteTime": {
     "end_time": "2023-11-11T13:42:46.058018Z",
     "start_time": "2023-11-11T13:42:45.511032Z"
    }
   },
   "outputs": [],
   "source": [
    "idx_worst_snr = torch.argmin(snrs).item()\n",
    "idx_best_snr = torch.argmax(snrs).item()\n",
    "\n",
    "worst_approx = gen(latent_noise[idx_worst_snr].unsqueeze(0), all_labels[idx_worst_snr].unsqueeze(0))\n",
    "best_approx = gen(latent_noise[idx_best_snr].unsqueeze(0), all_labels[idx_best_snr].unsqueeze(0))\n",
    "\n",
    "single_class_plot(hist_data=snrs_numpy,\n",
    "                  tar_best=all_targets[idx_best_snr],\n",
    "                  approx_best=best_approx,\n",
    "                  snr_best=snrs_numpy[idx_best_snr],\n",
    "                  tar_worst=all_targets[idx_worst_snr],\n",
    "                  approx_worst=worst_approx,\n",
    "                  snr_worst=snrs_numpy[idx_worst_snr],\n",
    "                  digit='ALL')"
   ]
  },
  {
   "cell_type": "code",
   "execution_count": null,
   "id": "30b774f5752b47a6",
   "metadata": {
    "ExecuteTime": {
     "end_time": "2023-11-11T13:42:46.623975Z",
     "start_time": "2023-11-11T13:42:46.057616Z"
    }
   },
   "outputs": [],
   "source": [
    "'''\n",
    "PREPARE DATA FOR EACH DIGIT\n",
    "'''\n",
    "labels_decoded = torch.argmax(all_labels, dim=1)\n",
    "total_num_examples = 0\n",
    "snrs_per_digit = []\n",
    "worst_approximations = [] # tuples (target, approx, snr)\n",
    "best_approximations = [] # tuples (target, approx, snr)\n",
    "means = []\n",
    "\n",
    "# loop though digits\n",
    "for c in range(10):\n",
    "    # extract indices of current digit\n",
    "    class_indices = torch.where(labels_decoded == c)[0].numpy()\n",
    "    \n",
    "    # extract snrs\n",
    "    single_class_snrs = snrs_numpy[class_indices]\n",
    "    num_examples = len(single_class_snrs)\n",
    "    mean_curr_class = np.mean(single_class_snrs)\n",
    "    \n",
    "    means.append(mean_curr_class)\n",
    "    snrs_per_digit.append(single_class_snrs)\n",
    "    \n",
    "    # extract targets, latent noise and labels for current digit\n",
    "    class_targets = all_targets[class_indices]\n",
    "    class_inputs = latent_noise[class_indices]\n",
    "    class_labels = all_labels[class_indices]\n",
    "    \n",
    "    # find and generate best and worst approximation\n",
    "    i_best = np.argmax(single_class_snrs)\n",
    "    i_worst = np.argmin(single_class_snrs)\n",
    "    best_approx = gen(class_inputs[i_best].unsqueeze(0), class_labels[i_best].unsqueeze(0))\n",
    "    worst_approx = gen(class_inputs[i_worst].unsqueeze(0), class_labels[i_worst].unsqueeze(0))\n",
    "    \n",
    "    # append tuples (target, approx, snr)\n",
    "    worst_approximations.append((class_targets[i_worst, 0], worst_approx[0, 0], single_class_snrs[i_worst]))\n",
    "    best_approximations.append((class_targets[i_best, 0], best_approx[0, 0], single_class_snrs[i_best]))\n",
    "    \n",
    "    total_num_examples += num_examples\n",
    "assert (total_num_examples == all_targets.shape[0])\n",
    "print(f'total number of examples: {total_num_examples}')"
   ]
  },
  {
   "cell_type": "code",
   "execution_count": null,
   "id": "4883c69ecd183bb1",
   "metadata": {
    "ExecuteTime": {
     "end_time": "2023-11-11T13:42:46.815331Z",
     "start_time": "2023-11-11T13:42:46.623396Z"
    }
   },
   "outputs": [],
   "source": [
    "#sns.set(rc={'figure.figsize':(11.7,16.27)})\n",
    "sns.violinplot(data=snrs_per_digit, orient='h', split=True)\n",
    "plt.title('PSNRs per Digit')\n",
    "plt.xlabel('PSNR value')\n",
    "plt.ylabel('Digit')\n",
    "plt.show()"
   ]
  },
  {
   "cell_type": "code",
   "execution_count": null,
   "id": "13fed55317e902a2",
   "metadata": {
    "ExecuteTime": {
     "end_time": "2023-11-11T13:42:47.463743Z",
     "start_time": "2023-11-11T13:42:46.818555Z"
    }
   },
   "outputs": [],
   "source": [
    "fig, axes = plt.subplots(1, 2, figsize=(10, 8))\n",
    "sns.violinplot(data=snrs_per_digit, orient='h', split=True, ax=axes[0])\n",
    "axes[0].set_xlabel('PSNR')\n",
    "axes[0].set_ylabel('Digit')\n",
    "sns.kdeplot(data=snrs_per_digit, ax=axes[1])\n",
    "axes[1].set_xlabel('PSNR')\n",
    "plt.ylabel('')\n",
    "plt.show()"
   ]
  },
  {
   "cell_type": "code",
   "execution_count": null,
   "id": "4cfbde05d6b0dfd0",
   "metadata": {
    "ExecuteTime": {
     "end_time": "2023-11-11T13:42:52.134999Z",
     "start_time": "2023-11-11T13:42:47.464316Z"
    }
   },
   "outputs": [],
   "source": [
    "'''\n",
    "PLOT HISTOGRAM, BEST AND WORST APPROXIMATION FOR EACH DIGIT\n",
    "'''\n",
    "for c in range(10):\n",
    "    tar_worst, approx_worst, snr_worst = worst_approximations[c]\n",
    "    tar_best, approx_best, snr_best = best_approximations[c]\n",
    "    single_class_plot(hist_data=snrs_per_digit[c],\n",
    "                      tar_best=tar_best,\n",
    "                      approx_best=approx_best,\n",
    "                      snr_best=snr_best,\n",
    "                      tar_worst=tar_worst,\n",
    "                      approx_worst=approx_worst,\n",
    "                      snr_worst=snr_worst,\n",
    "                      digit=c)    \n"
   ]
  },
  {
   "cell_type": "code",
   "execution_count": null,
   "id": "2564925728f66f20",
   "metadata": {
    "ExecuteTime": {
     "end_time": "2023-11-11T13:42:52.137676Z",
     "start_time": "2023-11-11T13:42:52.135117Z"
    }
   },
   "outputs": [],
   "source": []
  }
 ],
 "metadata": {
  "kernelspec": {
   "display_name": "Python 3",
   "language": "python",
   "name": "python3"
  },
  "language_info": {
   "codemirror_mode": {
    "name": "ipython",
    "version": 2
   },
   "file_extension": ".py",
   "mimetype": "text/x-python",
   "name": "python",
   "nbconvert_exporter": "python",
   "pygments_lexer": "ipython2",
   "version": "2.7.6"
  }
 },
 "nbformat": 4,
 "nbformat_minor": 5
}
