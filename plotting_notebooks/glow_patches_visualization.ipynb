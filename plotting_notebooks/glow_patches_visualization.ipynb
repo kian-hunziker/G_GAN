{
 "cells": [
  {
   "cell_type": "code",
   "execution_count": null,
   "id": "initial_id",
   "metadata": {
    "ExecuteTime": {
     "end_time": "2023-12-01T17:11:05.973822Z",
     "start_time": "2023-12-01T17:11:04.407146Z"
    }
   },
   "outputs": [],
   "source": [
    "import os\n",
    "import torch\n",
    "import torchvision as tv\n",
    "import numpy as np\n",
    "import matplotlib\n",
    "import matplotlib.pyplot as plt\n",
    "from matplotlib import cm\n",
    "from matplotlib.widgets import Slider\n",
    "import seaborn as sns\n",
    "import plotly.graph_objects as go\n",
    "\n",
    "from utils.data_loaders import get_rotated_mnist_dataloader\n",
    "from utils.checkpoints import load_gen_disc_from_checkpoint, load_checkpoint, print_checkpoint, load_glow_from_checkpoint\n",
    "\n",
    "from glow_regression import glow_regression\n",
    "\n",
    "import warnings\n",
    "warnings.simplefilter(\"ignore\", UserWarning)\n",
    "\n",
    "#%matplotlib notebook\n",
    "#matplotlib.use(\"nbagg\")"
   ]
  },
  {
   "cell_type": "code",
   "execution_count": null,
   "id": "873927d735b5aaa8",
   "metadata": {
    "ExecuteTime": {
     "end_time": "2023-12-01T17:11:05.986191Z",
     "start_time": "2023-12-01T17:11:05.980163Z"
    }
   },
   "outputs": [],
   "source": [
    "def plot_100_random_samples(model, title):\n",
    "    n_examples = 100\n",
    "    with torch.no_grad():\n",
    "        x, _ = model.sample(num_samples=n_examples, y=None)\n",
    "        x_ = torch.clamp(x, 0, 1)\n",
    "        plt.figure(figsize=(10, 10))\n",
    "        plt.imshow(np.transpose(tv.utils.make_grid(x_, nrow=10).cpu().numpy(), (1, 2, 0)))\n",
    "        plt.grid(False)\n",
    "        plt.yticks([])\n",
    "        plt.xticks([])\n",
    "        plt.suptitle(title)\n",
    "        plt.tight_layout()\n",
    "        plt.show()\n",
    "        \n",
    "def plot_100_random_samples_unnormalized(model, title):\n",
    "    n_examples = 100\n",
    "    with torch.no_grad():\n",
    "        x, _ = model.sample(num_samples=n_examples, y=None)\n",
    "        fig, ax = plt.subplots(10, 10, figsize=(10, 10))\n",
    "        for i in range(10):\n",
    "            for j in range(10):\n",
    "                a = ax[i, j]\n",
    "                a.imshow(x[10 * i + j].detach().squeeze().numpy(), cmap='gray')\n",
    "                a.get_xaxis().set_ticks([])\n",
    "                a.get_yaxis().set_ticks([])\n",
    "        plt.grid(False)\n",
    "        plt.suptitle(title)\n",
    "        plt.tight_layout()\n",
    "        plt.show()\n",
    "        \n",
    "def plot_patch_at_zero(model, description):\n",
    "    z_zero = [torch.zeros(q.shape).unsqueeze(0) for q in model.q0]\n",
    "    zero_patch, _ = model.forward_and_log_det(z_zero)\n",
    "    \n",
    "    plt.imshow(zero_patch.squeeze().detach(), cmap='gray')\n",
    "    plt.title(f'Patch at z = zero\\n{description}')\n",
    "    plt.tight_layout()\n",
    "    plt.show()"
   ]
  },
  {
   "cell_type": "code",
   "execution_count": null,
   "id": "21793772eacef2be",
   "metadata": {
    "ExecuteTime": {
     "end_time": "2023-12-01T17:11:06.298534Z",
     "start_time": "2023-12-01T17:11:05.985534Z"
    }
   },
   "outputs": [],
   "source": [
    "device = 'cpu'\n",
    "\n",
    "IMG_SIZE = 8\n",
    "\n",
    "model_path_128_train_img = 'trained_models/glow/2023-11-30_13:26:30/checkpoint_100000'\n",
    "model_128 = load_glow_from_checkpoint(f'../{model_path_128_train_img}', arch='lodopab')\n",
    "\n",
    "model_path_single_img = 'trained_models/glow/2023-12-01_09:01:05/checkpoint_12307'\n",
    "model_single_img = load_glow_from_checkpoint(f'../{model_path_single_img}', arch='lodopab')"
   ]
  },
  {
   "cell_type": "code",
   "execution_count": null,
   "id": "4d04a0b086ad5490",
   "metadata": {
    "ExecuteTime": {
     "end_time": "2023-12-01T17:11:07.939516Z",
     "start_time": "2023-12-01T17:11:06.282645Z"
    }
   },
   "outputs": [],
   "source": [
    "'''\n",
    "SHOW RANDOM PATCHES\n",
    "'''\n",
    "plot_100_random_samples(model_128, f'Random patches\\nGLOW trained on 128 images for 100000 iterations')\n",
    "plot_100_random_samples(model_single_img, f'Random patches\\nGLOW trained on single image for 12307 iterations')"
   ]
  },
  {
   "cell_type": "code",
   "execution_count": null,
   "id": "22f66c72709f1902",
   "metadata": {
    "ExecuteTime": {
     "end_time": "2023-12-01T17:11:11.920436Z",
     "start_time": "2023-12-01T17:11:07.933252Z"
    }
   },
   "outputs": [],
   "source": [
    "'''\n",
    "PLOT RANDOM PATCHES NORMALIZED PER BATCH\n",
    "'''\n",
    "plot_100_random_samples_unnormalized(model_128, f'Random patches\\nGLOW trained on 128 images for 100000 iterations')\n",
    "plot_100_random_samples_unnormalized(model_single_img, f'Random patches\\nGLOW trained on single image for 12307 iterations')"
   ]
  },
  {
   "cell_type": "code",
   "execution_count": null,
   "id": "f2a9c85256ad13da",
   "metadata": {
    "ExecuteTime": {
     "end_time": "2023-12-01T17:11:12.173616Z",
     "start_time": "2023-12-01T17:11:11.915117Z"
    }
   },
   "outputs": [],
   "source": [
    "plot_patch_at_zero(model_128, description='Trained on 128 images')\n",
    "plot_patch_at_zero(model_single_img, description='Trained on single image')"
   ]
  },
  {
   "cell_type": "code",
   "execution_count": null,
   "id": "c2d96ee07a22fb12",
   "metadata": {
    "ExecuteTime": {
     "end_time": "2023-12-01T17:11:12.179994Z",
     "start_time": "2023-12-01T17:11:12.171907Z"
    }
   },
   "outputs": [],
   "source": []
  }
 ],
 "metadata": {
  "kernelspec": {
   "display_name": "Python 3",
   "language": "python",
   "name": "python3"
  },
  "language_info": {
   "codemirror_mode": {
    "name": "ipython",
    "version": 2
   },
   "file_extension": ".py",
   "mimetype": "text/x-python",
   "name": "python",
   "nbconvert_exporter": "python",
   "pygments_lexer": "ipython2",
   "version": "2.7.6"
  }
 },
 "nbformat": 4,
 "nbformat_minor": 5
}
