{
 "cells": [
  {
   "cell_type": "code",
   "execution_count": null,
   "id": "initial_id",
   "metadata": {
    "ExecuteTime": {
     "end_time": "2023-11-23T15:49:50.651561Z",
     "start_time": "2023-11-23T15:49:48.974830Z"
    }
   },
   "outputs": [],
   "source": [
    "import os\n",
    "import torch\n",
    "import numpy as np\n",
    "import matplotlib\n",
    "import matplotlib.pyplot as plt\n",
    "from matplotlib import cm\n",
    "from matplotlib.widgets import Slider\n",
    "import seaborn as sns\n",
    "import plotly.graph_objects as go\n",
    "\n",
    "from utils.dataLoaders import get_rotated_mnist_dataloader\n",
    "from utils.checkpoints import load_gen_disc_from_checkpoint, load_checkpoint, print_checkpoint, load_glow_from_checkpoint\n",
    "\n",
    "from glow_regression import glow_regression\n",
    "\n",
    "import warnings\n",
    "warnings.simplefilter(\"ignore\", UserWarning)\n",
    "\n",
    "%matplotlib notebook\n",
    "#matplotlib.use(\"nbagg\")"
   ]
  },
  {
   "cell_type": "code",
   "execution_count": null,
   "id": "67cc2c923a59d17f",
   "metadata": {
    "ExecuteTime": {
     "end_time": "2023-11-23T15:49:50.691089Z",
     "start_time": "2023-11-23T15:49:50.664691Z"
    }
   },
   "outputs": [],
   "source": [
    "def visualize_regression(loss, images_np, tar_np):\n",
    "    fig= plt.figure(figsize=(9, 5))\n",
    "    n_iterations = len(loss)\n",
    "    \n",
    "    a0 = plt.subplot(1, 2, 1)\n",
    "    a1 = plt.subplot(3, 4, 3)\n",
    "    a2 = plt.subplot(3, 4, 4)\n",
    "    \n",
    "    ax = [a0, a1, a2]\n",
    "    \n",
    "    log_loss = np.log(loss)\n",
    "    slider_ax = fig.add_axes([0.25, 0.1, 0.65, 0.03])\n",
    "    iter_slider = Slider(ax=slider_ax, label='Iteration', orientation='horizontal', \n",
    "                    valinit=0, valmin=0, valmax=n_iterations, valstep=1, closedmax=False)\n",
    "    sns.lineplot(log_loss, ax=ax[0])\n",
    "    ax[0].plot(0, log_loss[0], 'ko')\n",
    "    ax[0].annotate('hoi', xy=(0, 0))\n",
    "    \n",
    "    ax[1].imshow(images_np[0], cmap='gray')\n",
    "    ax[2].imshow(tar_np, cmap='gray')\n",
    "    ax[0].set_title('log(MSE) over iterations')\n",
    "    ax[0].set_xlabel('Iteration')\n",
    "    ax[0].set_ylabel('log(MSE)')\n",
    "    ax[1].set_title('Approximation')\n",
    "    ax[2].set_title('Target')\n",
    "    ax[1].grid(False)\n",
    "    ax[2].grid(False)\n",
    "    fig.subplots_adjust(bottom=0.25)\n",
    "    \n",
    "    def iter_update(val):\n",
    "        idx = iter_slider.val\n",
    "        ax[0].cla()\n",
    "        sns.lineplot(log_loss, ax=ax[0])\n",
    "        ax[0].plot(idx, log_loss[idx], 'ko', )\n",
    "        ax[0].annotate(f'   {log_loss[idx]:.2f}\\n', xy=(idx, log_loss[idx]), xytext=(idx, log_loss[idx]))\n",
    "        ax[0].set_title('log(MSE) over iterations')\n",
    "        ax[0].set_xlabel('Iteration')\n",
    "        ax[0].set_ylabel('log(MSE)')\n",
    "        ax[1].imshow(images_np[idx], cmap='gray')\n",
    "        \n",
    "    iter_slider.on_changed(iter_update)\n",
    "    \n",
    "    plt.show()"
   ]
  },
  {
   "cell_type": "code",
   "execution_count": null,
   "id": "371526dcfe04f8ab",
   "metadata": {
    "ExecuteTime": {
     "end_time": "2023-11-23T15:49:50.693043Z",
     "start_time": "2023-11-23T15:49:50.675876Z"
    }
   },
   "outputs": [],
   "source": [
    "def visualize_three_regression(losses, images_np, tar_np, tags):\n",
    "    fig= plt.figure(figsize=(9, 5))\n",
    "    n_iterations = len(losses[0])\n",
    "    archs = ['p4', 'z2', 'vanilla']\n",
    "    \n",
    "    a0 = plt.subplot(1, 2, 1)\n",
    "    a1 = plt.subplot(3, 4, 3)\n",
    "    a2 = plt.subplot(3, 4, 4)\n",
    "    a3 = plt.subplot(3, 4, 7)\n",
    "    a4 = plt.subplot(3, 4, 8)\n",
    "    a5 = plt.subplot(3, 4, 11)\n",
    "    a6 = plt.subplot(3, 4, 12)\n",
    "    \n",
    "    ax = [a0, a1, a2, a3, a4, a5, a6]\n",
    "    \n",
    "\n",
    "    log_losses = [np.log(l) for l in losses]\n",
    "    \n",
    "    slider_ax = fig.add_axes([0.25, 0.1, 0.65, 0.03])\n",
    "    iter_slider = Slider(ax=slider_ax, label='Iteration', orientation='horizontal', \n",
    "                    valinit=0, valmin=0, valmax=n_iterations, valstep=1, closedmax=False)\n",
    "    \n",
    "    for i, l in enumerate(log_losses):\n",
    "        sns.lineplot(l, ax=ax[0], label=tags[i], legend='brief')\n",
    "        ax[0].plot(0, l[0], 'ko')\n",
    "    \n",
    "    ax[1].imshow(images_np[0][0], cmap='gray')\n",
    "    ax[2].imshow(tar_np, cmap='gray')\n",
    "    ax[3].imshow(images_np[1][0], cmap='gray')\n",
    "    ax[4].imshow(tar_np, cmap='gray')\n",
    "    ax[5].imshow(images_np[2][0], cmap='gray')\n",
    "    ax[6].imshow(tar_np, cmap='gray')\n",
    "    \n",
    "    ax[0].set_title('log(MSE) over iterations')\n",
    "    ax[0].set_xlabel('Iteration')\n",
    "    ax[0].set_ylabel('log(MSE)')\n",
    "    ax[1].set_title('Approximation')\n",
    "    ax[1].set_xlabel(tags[0])\n",
    "    ax[3].set_xlabel(tags[1])\n",
    "    ax[5].set_xlabel(tags[2])\n",
    "    ax[2].set_title('Target')\n",
    "    for i in range(1, 7):\n",
    "        ax[i].grid(False)\n",
    "        # Hide X and Y axes tick marks\n",
    "        ax[i].set_xticks([])\n",
    "        ax[i].set_yticks([])\n",
    "    \n",
    "    fig.subplots_adjust(bottom=0.25)\n",
    "    \n",
    "    def iter_update(val):\n",
    "        idx = iter_slider.val\n",
    "        ax[0].cla()\n",
    "        for i, l in enumerate(log_losses):\n",
    "            sns.lineplot(l, ax=ax[0], label=tags[i], legend='brief')\n",
    "            ax[0].plot(idx, l[idx], 'ko', )\n",
    "            ax[0].annotate(f'   {l[idx]:.2f}\\n', xy=(idx, l[idx]), xytext=(idx, l[idx]))\n",
    "        ax[0].set_title('log(MSE) over iterations')\n",
    "        ax[0].set_xlabel('Iteration')\n",
    "        ax[0].set_ylabel('log(MSE)')\n",
    "        ax[1].imshow(images_np[0][idx], cmap='gray')\n",
    "        ax[3].imshow(images_np[1][idx], cmap='gray')\n",
    "        ax[5].imshow(images_np[2][idx], cmap='gray')\n",
    "        \n",
    "    iter_slider.on_changed(iter_update)\n",
    "    \n",
    "    plt.show()"
   ]
  },
  {
   "cell_type": "code",
   "execution_count": null,
   "id": "63c971a0cafbd495",
   "metadata": {
    "ExecuteTime": {
     "end_time": "2023-11-23T15:49:51.256653Z",
     "start_time": "2023-11-23T15:49:50.681212Z"
    }
   },
   "outputs": [],
   "source": [
    "device = 'cpu'\n",
    "\n",
    "IMG_SIZE = 16\n",
    "\n",
    "model_path = 'trained_models/glow/2023-11-23_12:25:04/checkpoint_60000'\n",
    "model = load_glow_from_checkpoint(f'../{model_path}')\n",
    "\n",
    "test_dataset, loader = get_rotated_mnist_dataloader(root='..',\n",
    "                                                    batch_size=10000,\n",
    "                                                    shuffle=False,\n",
    "                                                    one_hot_encode=False,\n",
    "                                                    num_examples=10000,\n",
    "                                                    num_rotations=0,\n",
    "                                                    img_size=IMG_SIZE,\n",
    "                                                    train=False,\n",
    "                                                    single_class=None,\n",
    "                                                    glow=True)\n",
    "all_targets, labels = next(iter(loader))"
   ]
  },
  {
   "cell_type": "code",
   "execution_count": null,
   "id": "d2c36c63e9968a34",
   "metadata": {
    "ExecuteTime": {
     "end_time": "2023-11-23T15:50:03.226137Z",
     "start_time": "2023-11-23T15:49:51.257527Z"
    }
   },
   "outputs": [],
   "source": [
    "target_idx = 404\n",
    "target = all_targets[target_idx]\n",
    "label = labels[target_idx]\n",
    "\n",
    "n_iter = 200\n",
    "lr = 1e-1\n",
    "wd = 0.005\n",
    "scheduler_step_size = None\n",
    "\n",
    "z_final, images_no_noise, losses_no_noise = glow_regression(model, target, label, n_iter, lr=lr, wd=wd, scheduler_step_size=scheduler_step_size)"
   ]
  },
  {
   "cell_type": "code",
   "execution_count": null,
   "id": "d0110106445374b0",
   "metadata": {
    "ExecuteTime": {
     "end_time": "2023-11-23T15:51:44.937859Z",
     "start_time": "2023-11-23T15:51:44.864966Z"
    }
   },
   "outputs": [],
   "source": [
    "visualize_regression(losses_no_noise, images_no_noise, target.squeeze())"
   ]
  },
  {
   "cell_type": "code",
   "execution_count": null,
   "id": "a6522eecf3519b40",
   "metadata": {
    "ExecuteTime": {
     "end_time": "2023-11-23T15:50:16.494890Z",
     "start_time": "2023-11-23T15:50:03.307396Z"
    }
   },
   "outputs": [],
   "source": [
    "'''\n",
    "NOISY REGRESSION\n",
    "'''\n",
    "#target_idx = 402\n",
    "target = all_targets[target_idx]\n",
    "noisy_target = target + 0.2 * (torch.randn(target.shape) + 0.5)\n",
    "label = labels[target_idx]\n",
    "\n",
    "n_iter = 200\n",
    "lr = 1e-1\n",
    "wd = 0.005\n",
    "scheduler_step_size = None\n",
    "\n",
    "z_final_noisy, images_noisy, losses_noisy = glow_regression(model, noisy_target, label, n_iter, lr=lr, wd=wd, scheduler_step_size=scheduler_step_size)"
   ]
  },
  {
   "cell_type": "code",
   "execution_count": null,
   "id": "b77faf86eba35f13",
   "metadata": {
    "ExecuteTime": {
     "end_time": "2023-11-23T15:51:24.420352Z",
     "start_time": "2023-11-23T15:51:24.337830Z"
    }
   },
   "outputs": [],
   "source": [
    "visualize_regression(losses_noisy, images_noisy, noisy_target.squeeze())"
   ]
  },
  {
   "cell_type": "code",
   "execution_count": null,
   "id": "306a082aebb8024e",
   "metadata": {
    "ExecuteTime": {
     "end_time": "2023-11-23T15:50:16.583572Z",
     "start_time": "2023-11-23T15:50:16.549010Z"
    }
   },
   "outputs": [],
   "source": [
    "loss_hist = torch.load(f'../{model_path}', map_location='cpu')['loss_hist']\n",
    "\n",
    "fig, ax = plt.subplots()\n",
    "ax.plot(loss_hist)\n",
    "ax.set_title('training loss over iterations')\n",
    "plt.show()"
   ]
  },
  {
   "cell_type": "code",
   "execution_count": null,
   "id": "e6fb889dfc9d7f4e",
   "metadata": {
    "ExecuteTime": {
     "end_time": "2023-11-23T15:50:53.299Z",
     "start_time": "2023-11-23T15:50:16.586961Z"
    }
   },
   "outputs": [],
   "source": [
    "target_idx = 404\n",
    "target = all_targets[target_idx]\n",
    "noise_strength = 0.2\n",
    "noisy_target = target + noise_strength * (torch.randn(target.shape) + 0.5)\n",
    "label = labels[target_idx]\n",
    "\n",
    "n_iter = 200\n",
    "lrs = [1e-1, 1e-1, 1e-1]\n",
    "wds = [0, 0, 0.005]\n",
    "zero_starts = [True, False, False]\n",
    "scheduler_step_size = None\n",
    "\n",
    "\n",
    "loss_list = []\n",
    "image_list = []\n",
    "tags = []\n",
    "\n",
    "for i in range(3):\n",
    "    lr = lrs[i]\n",
    "    wd = wds[i]\n",
    "    zeros_start = zero_starts[i]\n",
    "    z, im, l = glow_regression(model, noisy_target, label, n_iter, lr=lr, wd=wd, scheduler_step_size=scheduler_step_size, zero_start=zeros_start)\n",
    "    tags.append(f'Zero start={zeros_start}, wd={wd}')\n",
    "    loss_list.append(l)\n",
    "    image_list.append(im)\n",
    "    \n"
   ]
  },
  {
   "cell_type": "code",
   "execution_count": null,
   "id": "3143228372724d0d",
   "metadata": {
    "ExecuteTime": {
     "end_time": "2023-11-23T15:51:01.048583Z",
     "start_time": "2023-11-23T15:51:00.888538Z"
    }
   },
   "outputs": [],
   "source": [
    "visualize_three_regression(loss_list, image_list, noisy_target.squeeze(), tags)"
   ]
  },
  {
   "cell_type": "code",
   "execution_count": null,
   "id": "95635353326ecec6",
   "metadata": {
    "ExecuteTime": {
     "end_time": "2023-11-23T15:50:53.483233Z",
     "start_time": "2023-11-23T15:50:53.471934Z"
    }
   },
   "outputs": [],
   "source": []
  }
 ],
 "metadata": {
  "kernelspec": {
   "display_name": "Python 3",
   "language": "python",
   "name": "python3"
  },
  "language_info": {
   "codemirror_mode": {
    "name": "ipython",
    "version": 2
   },
   "file_extension": ".py",
   "mimetype": "text/x-python",
   "name": "python",
   "nbconvert_exporter": "python",
   "pygments_lexer": "ipython2",
   "version": "2.7.6"
  }
 },
 "nbformat": 4,
 "nbformat_minor": 5
}
