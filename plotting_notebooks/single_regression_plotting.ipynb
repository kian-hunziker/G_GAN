{
 "cells": [
  {
   "cell_type": "code",
   "execution_count": null,
   "id": "initial_id",
   "metadata": {
    "ExecuteTime": {
     "end_time": "2023-11-23T14:09:26.100987Z",
     "start_time": "2023-11-23T14:09:24.060453Z"
    }
   },
   "outputs": [],
   "source": [
    "import os\n",
    "import torch\n",
    "import numpy as np\n",
    "import matplotlib\n",
    "import matplotlib.pyplot as plt\n",
    "from matplotlib import cm\n",
    "from matplotlib.widgets import Slider\n",
    "import seaborn as sns\n",
    "import plotly.graph_objects as go\n",
    "import plotly.express as px\n",
    "\n",
    "from utils.dataLoaders import get_rotated_mnist_dataloader\n",
    "from utils.checkpoints import load_gen_disc_from_checkpoint, load_checkpoint, print_checkpoint\n",
    "\n",
    "from singleRegression import get_trace_single_regression, get_start_position\n",
    "\n",
    "%matplotlib notebook\n",
    "#matplotlib.use(\"nbagg\")"
   ]
  },
  {
   "cell_type": "code",
   "execution_count": null,
   "id": "779986b8711ae5a2",
   "metadata": {
    "ExecuteTime": {
     "end_time": "2023-11-23T14:09:26.115360Z",
     "start_time": "2023-11-23T14:09:26.105287Z"
    }
   },
   "outputs": [],
   "source": [
    "def visualize_regression(loss, images_np, tar_np):\n",
    "    fig= plt.figure(figsize=(9, 5))\n",
    "    n_iterations = len(loss)\n",
    "    \n",
    "    a0 = plt.subplot(1, 2, 1)\n",
    "    a1 = plt.subplot(3, 4, 3)\n",
    "    a2 = plt.subplot(3, 4, 4)\n",
    "    \n",
    "    ax = [a0, a1, a2]\n",
    "    \n",
    "    log_loss = np.log(loss)\n",
    "    slider_ax = fig.add_axes([0.25, 0.1, 0.65, 0.03])\n",
    "    iter_slider = Slider(ax=slider_ax, label='Iteration', orientation='horizontal', \n",
    "                    valinit=0, valmin=0, valmax=n_iterations, valstep=1, closedmax=False)\n",
    "    sns.lineplot(log_loss, ax=ax[0])\n",
    "    ax[0].plot(0, log_loss[0], 'ko')\n",
    "    ax[0].annotate('hoi', xy=(0, 0))\n",
    "    \n",
    "    ax[1].imshow(images_np[0], cmap='gray')\n",
    "    ax[2].imshow(tar_np, cmap='gray')\n",
    "    ax[0].set_title('log(MSE) over iterations')\n",
    "    ax[0].set_xlabel('Iteration')\n",
    "    ax[0].set_ylabel('log(MSE)')\n",
    "    ax[1].set_title('Approximation')\n",
    "    ax[2].set_title('Target')\n",
    "    ax[1].grid(False)\n",
    "    ax[2].grid(False)\n",
    "    fig.subplots_adjust(bottom=0.25)\n",
    "    \n",
    "    def iter_update(val):\n",
    "        idx = iter_slider.val\n",
    "        ax[0].cla()\n",
    "        sns.lineplot(log_loss, ax=ax[0])\n",
    "        ax[0].plot(idx, log_loss[idx], 'ko', )\n",
    "        ax[0].annotate(f'   {log_loss[idx]:.2f}\\n', xy=(idx, log_loss[idx]), xytext=(idx, log_loss[idx]))\n",
    "        ax[0].set_title('log(MSE) over iterations')\n",
    "        ax[0].set_xlabel('Iteration')\n",
    "        ax[0].set_ylabel('log(MSE)')\n",
    "        ax[1].imshow(images_np[idx], cmap='gray')\n",
    "        \n",
    "    iter_slider.on_changed(iter_update)\n",
    "    \n",
    "    plt.show()"
   ]
  },
  {
   "cell_type": "code",
   "execution_count": null,
   "id": "ced182e19a0d823c",
   "metadata": {
    "ExecuteTime": {
     "end_time": "2023-11-23T14:09:26.126608Z",
     "start_time": "2023-11-23T14:09:26.109445Z"
    }
   },
   "outputs": [],
   "source": [
    "def visualize_three_regression(losses, images_np, tar_np):\n",
    "    fig= plt.figure(figsize=(9, 5))\n",
    "    n_iterations = len(losses[0])\n",
    "    archs = ['p4', 'z2', 'vanilla']\n",
    "    \n",
    "    a0 = plt.subplot(1, 2, 1)\n",
    "    a1 = plt.subplot(3, 4, 3)\n",
    "    a2 = plt.subplot(3, 4, 4)\n",
    "    a3 = plt.subplot(3, 4, 7)\n",
    "    a4 = plt.subplot(3, 4, 8)\n",
    "    a5 = plt.subplot(3, 4, 11)\n",
    "    a6 = plt.subplot(3, 4, 12)\n",
    "    \n",
    "    ax = [a0, a1, a2, a3, a4, a5, a6]\n",
    "    \n",
    "\n",
    "    log_losses = [np.log(l) for l in losses]\n",
    "    \n",
    "    slider_ax = fig.add_axes([0.25, 0.1, 0.65, 0.03])\n",
    "    iter_slider = Slider(ax=slider_ax, label='Iteration', orientation='horizontal', \n",
    "                    valinit=0, valmin=0, valmax=n_iterations, valstep=1, closedmax=False)\n",
    "    \n",
    "    for i, l in enumerate(log_losses):\n",
    "        sns.lineplot(l, ax=ax[0], label=archs[i], legend='brief')\n",
    "        ax[0].plot(0, l[0], 'ko')\n",
    "    \n",
    "    ax[1].imshow(images_np[0][0], cmap='gray')\n",
    "    ax[2].imshow(tar_np, cmap='gray')\n",
    "    ax[3].imshow(images_np[1][0], cmap='gray')\n",
    "    ax[4].imshow(tar_np, cmap='gray')\n",
    "    ax[5].imshow(images_np[2][0], cmap='gray')\n",
    "    ax[6].imshow(tar_np, cmap='gray')\n",
    "    \n",
    "    ax[0].set_title('log(MSE) over iterations')\n",
    "    ax[0].set_xlabel('Iteration')\n",
    "    ax[0].set_ylabel('log(MSE)')\n",
    "    ax[1].set_title('Approximation')\n",
    "    ax[1].set_ylabel('p4')\n",
    "    ax[3].set_ylabel('z2')\n",
    "    ax[5].set_ylabel('vanilla')\n",
    "    ax[2].set_title('Target')\n",
    "    for i in range(1, 7):\n",
    "        ax[i].grid(False)\n",
    "        # Hide X and Y axes tick marks\n",
    "        ax[i].set_xticks([])\n",
    "        ax[i].set_yticks([])\n",
    "    \n",
    "    fig.subplots_adjust(bottom=0.25)\n",
    "    \n",
    "    def iter_update(val):\n",
    "        idx = iter_slider.val\n",
    "        ax[0].cla()\n",
    "        for i, l in enumerate(log_losses):\n",
    "            sns.lineplot(l, ax=ax[0], label=archs[i], legend='brief')\n",
    "            ax[0].plot(idx, l[idx], 'ko', )\n",
    "            ax[0].annotate(f'   {l[idx]:.2f}\\n', xy=(idx, l[idx]), xytext=(idx, l[idx]))\n",
    "        ax[0].set_title('log(MSE) over iterations')\n",
    "        ax[0].set_xlabel('Iteration')\n",
    "        ax[0].set_ylabel('log(MSE)')\n",
    "        ax[1].imshow(images_np[0][idx], cmap='gray')\n",
    "        ax[3].imshow(images_np[1][idx], cmap='gray')\n",
    "        ax[5].imshow(images_np[2][idx], cmap='gray')\n",
    "        \n",
    "    iter_slider.on_changed(iter_update)\n",
    "    \n",
    "    plt.show()"
   ]
  },
  {
   "cell_type": "markdown",
   "id": "197f2274adc23677",
   "metadata": {
    "collapsed": false
   },
   "source": [
    "Load trained models and complete test dataset"
   ]
  },
  {
   "cell_type": "code",
   "execution_count": null,
   "id": "b450c105e819eb78",
   "metadata": {
    "ExecuteTime": {
     "end_time": "2023-11-23T14:11:23.231530Z",
     "start_time": "2023-11-23T14:11:22.686861Z"
    }
   },
   "outputs": [],
   "source": [
    "device = 'cpu'\n",
    "\n",
    "IMG_SIZE = 28\n",
    "\n",
    "paths = [\n",
    "    '../trained_models/p4_rot_mnist/2023-10-31_14:16:50/checkpoint_20000',\n",
    "    '../trained_models/z2_rot_mnist/2023-10-31_12:34:55/checkpoint_20000',\n",
    "    '../trained_models/vanilla_small/2023-10-31_17:13:13/checkpoint_20000'\n",
    "]\n",
    "archs = ['p4', 'z2', 'vanilla']\n",
    "generators = []\n",
    "\n",
    "for p in paths:\n",
    "    gen, _ = load_gen_disc_from_checkpoint(p, device, print_to_console=True)\n",
    "    generators.append(gen.eval())\n",
    "    checkpoint = load_checkpoint(p)\n",
    "    print_checkpoint(checkpoint)\n",
    "\n",
    "LATENT_DIM = checkpoint['latent_dim']\n",
    "\n",
    "project_root = os.getcwd()\n",
    "test_dataset, loader = get_rotated_mnist_dataloader(root='..',\n",
    "                                                    batch_size=10000,\n",
    "                                                    shuffle=False,\n",
    "                                                    one_hot_encode=False,\n",
    "                                                    num_examples=10000,\n",
    "                                                    num_rotations=0,\n",
    "                                                    train=False,\n",
    "                                                    single_class=None)\n",
    "all_targets, labels = next(iter(loader))"
   ]
  },
  {
   "cell_type": "markdown",
   "id": "943359040d087c79",
   "metadata": {
    "collapsed": false
   },
   "source": [
    "Chose target by specifying target index. Then perform regressions for all loaded models."
   ]
  },
  {
   "cell_type": "code",
   "execution_count": null,
   "id": "c0ca93584d23ad1c",
   "metadata": {
    "ExecuteTime": {
     "end_time": "2023-11-22T13:53:48.692069Z",
     "start_time": "2023-11-22T13:51:26.691293Z"
    }
   },
   "outputs": [],
   "source": [
    "target_idx = 402\n",
    "target = all_targets[target_idx]\n",
    "label = labels[target_idx].item()\n",
    "\n",
    "n_iterations = 1000\n",
    "n_star_pos = 128\n",
    "lr = 0.1\n",
    "scheduler_step_size = 100\n",
    "noise_amplitude = 0.0\n",
    "\n",
    "noisy_target = target + noise_amplitude * torch.randn(target.size())\n",
    "\n",
    "losses, reg_images = [], []\n",
    "\n",
    "for i, gen in enumerate(generators):\n",
    "    print(f'gen_arch: {archs[i]}')\n",
    "    start_pos, _ = get_start_position(gen, LATENT_DIM, noisy_target, label, n_start_pos=n_star_pos)\n",
    "    '''\n",
    "    trace_results: [x_coord, y_coord, losses], (x_coords, y_coords) are the first two coords from a (possibly) higher dimensional input vector\n",
    "    images: [image], list of images as np.arrays. Every image is an approximation at the corresponding regression step\n",
    "    '''\n",
    "    trace_results, images = get_trace_single_regression(gen, \n",
    "                                                        start_pos, \n",
    "                                                        noisy_target, \n",
    "                                                        label, \n",
    "                                                        n_iter=n_iterations, \n",
    "                                                        lr=lr, \n",
    "                                                        scheduler_step_size=scheduler_step_size, \n",
    "                                                        ret_intermediate_images=True)\n",
    "    losses.append(trace_results[-1])\n",
    "    reg_images.append(images)"
   ]
  },
  {
   "cell_type": "code",
   "execution_count": null,
   "id": "31aa5b9b288c264",
   "metadata": {
    "ExecuteTime": {
     "end_time": "2023-11-22T13:53:48.801790Z",
     "start_time": "2023-11-22T13:53:48.682734Z"
    }
   },
   "outputs": [],
   "source": [
    "plt.close()\n",
    "visualize_three_regression(losses, reg_images, noisy_target.squeeze().numpy())"
   ]
  },
  {
   "cell_type": "code",
   "execution_count": null,
   "id": "e7810b78e439bb4d",
   "metadata": {
    "ExecuteTime": {
     "end_time": "2023-11-21T14:11:13.369353Z",
     "start_time": "2023-11-21T14:11:13.363210Z"
    }
   },
   "outputs": [],
   "source": []
  }
 ],
 "metadata": {
  "kernelspec": {
   "display_name": "Python 3",
   "language": "python",
   "name": "python3"
  },
  "language_info": {
   "codemirror_mode": {
    "name": "ipython",
    "version": 2
   },
   "file_extension": ".py",
   "mimetype": "text/x-python",
   "name": "python",
   "nbconvert_exporter": "python",
   "pygments_lexer": "ipython2",
   "version": "2.7.6"
  }
 },
 "nbformat": 4,
 "nbformat_minor": 5
}
