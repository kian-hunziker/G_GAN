{
 "cells": [
  {
   "cell_type": "code",
   "execution_count": null,
   "id": "initial_id",
   "metadata": {
    "ExecuteTime": {
     "end_time": "2023-11-24T09:52:24.166037Z",
     "start_time": "2023-11-24T09:52:22.647281Z"
    }
   },
   "outputs": [],
   "source": [
    "import os\n",
    "import torch\n",
    "import torchvision as tv\n",
    "import numpy as np\n",
    "import matplotlib\n",
    "import matplotlib.pyplot as plt\n",
    "from matplotlib import cm\n",
    "from matplotlib.widgets import Slider\n",
    "import seaborn as sns\n",
    "import plotly.graph_objects as go\n",
    "\n",
    "from utils.data_loaders import get_rotated_mnist_dataloader\n",
    "from utils.checkpoints import load_gen_disc_from_checkpoint, load_checkpoint, print_checkpoint, load_glow_from_checkpoint\n",
    "\n",
    "from glow_regression import glow_regression\n",
    "\n",
    "import warnings\n",
    "warnings.simplefilter(\"ignore\", UserWarning)\n",
    "\n",
    "%matplotlib notebook\n",
    "#matplotlib.use(\"nbagg\")"
   ]
  },
  {
   "cell_type": "code",
   "execution_count": null,
   "id": "8b7da85e8236c8f5",
   "metadata": {},
   "outputs": [],
   "source": []
  },
  {
   "cell_type": "code",
   "execution_count": null,
   "id": "85544cb9d6fef6ce",
   "metadata": {
    "ExecuteTime": {
     "end_time": "2023-11-24T09:52:24.301867Z",
     "start_time": "2023-11-24T09:52:24.170198Z"
    }
   },
   "outputs": [],
   "source": [
    "device = 'cpu'\n",
    "\n",
    "IMG_SIZE = 16\n",
    "num_classes = 10\n",
    "\n",
    "model_path = 'trained_models/glow/2023-11-23_12:25:04/checkpoint_93750'\n",
    "model = load_glow_from_checkpoint(f'../{model_path}')"
   ]
  },
  {
   "cell_type": "code",
   "execution_count": null,
   "id": "eb0923371b8a3554",
   "metadata": {
    "ExecuteTime": {
     "end_time": "2023-11-24T09:52:24.841972Z",
     "start_time": "2023-11-24T09:52:24.301097Z"
    }
   },
   "outputs": [],
   "source": [
    "'''\n",
    "DISPLAY MEAN IMAGE FOR EACH CLASS\n",
    "'''\n",
    "means = []\n",
    "classes = torch.arange(num_classes)\n",
    "num_samples = 10000\n",
    "\n",
    "# compute latent variables for class means\n",
    "z = []\n",
    "for q in model.q0:\n",
    "    means = []\n",
    "    for i in range(num_classes):\n",
    "        label = torch.tensor([i]).repeat(num_samples)\n",
    "        samples = q(num_samples, label)[0]\n",
    "        mean = torch.mean(samples, dim=0).unsqueeze(0).detach()\n",
    "        means.append(mean)\n",
    "    means = torch.cat(means)\n",
    "    z.append(means)\n",
    "    \n",
    "# generate images at mean positions\n",
    "with torch.no_grad():\n",
    "    x, _ = model.forward_and_log_det(z)\n",
    "\n",
    "# display means\n",
    "fig, ax = plt.subplots(2, num_classes // 2)\n",
    "for i in range(num_classes):\n",
    "    a = ax[i // (num_classes//2), i % (num_classes // 2) ]\n",
    "    a.imshow(x[i].squeeze(), cmap='gray')\n",
    "    a.grid(False)\n",
    "    a.get_xaxis().set_ticks([])\n",
    "    a.get_yaxis().set_ticks([])\n",
    "plt.suptitle(f'GLOW\\nMean per class\\nEstimated on {num_samples} samples')\n",
    "    \n",
    "    \n",
    "plt.show()"
   ]
  },
  {
   "cell_type": "code",
   "execution_count": null,
   "id": "dddfd2bc8054e171",
   "metadata": {
    "ExecuteTime": {
     "end_time": "2023-11-24T09:52:25.686280Z",
     "start_time": "2023-11-24T09:52:24.846207Z"
    }
   },
   "outputs": [],
   "source": [
    "'''\n",
    "SHOW RANDOM SAMPLES FOR EACH CLASS\n",
    "'''\n",
    "n_examples = 10\n",
    "with torch.no_grad():\n",
    "    y = torch.arange(num_classes).repeat(n_examples).to(device)\n",
    "    x, _ = model.sample(y=y)\n",
    "    x_ = torch.clamp(x, 0, 1)\n",
    "    plt.figure(figsize=(10, 10))\n",
    "    plt.imshow(np.transpose(tv.utils.make_grid(x_, nrow=num_classes).cpu().numpy(), (1, 2, 0)))\n",
    "    plt.grid(False)\n",
    "    plt.yticks([])\n",
    "    plt.xticks([])\n",
    "    plt.suptitle(f'Random examples for each class')\n",
    "    plt.show()"
   ]
  },
  {
   "cell_type": "code",
   "execution_count": null,
   "id": "460976ac432c0609",
   "metadata": {
    "ExecuteTime": {
     "end_time": "2023-11-24T09:52:25.781319Z",
     "start_time": "2023-11-24T09:52:25.686970Z"
    }
   },
   "outputs": [],
   "source": [
    "'''\n",
    "PLOT TRAINING LOSS\n",
    "'''\n",
    "loss_hist = torch.load(f'../{model_path}', map_location='cpu')['loss_hist']\n",
    "\n",
    "fig, ax = plt.subplots()\n",
    "ax.plot(loss_hist)\n",
    "ax.set_title('Training Loss over Iterations')\n",
    "ax.set_xlabel('Iterations')\n",
    "ax.set_ylabel('Training Loss')\n",
    "plt.show()"
   ]
  },
  {
   "cell_type": "code",
   "execution_count": null,
   "id": "b8cdd2917d05f5bd",
   "metadata": {
    "ExecuteTime": {
     "end_time": "2023-11-24T09:52:25.785655Z",
     "start_time": "2023-11-24T09:52:25.782637Z"
    }
   },
   "outputs": [],
   "source": []
  }
 ],
 "metadata": {
  "kernelspec": {
   "display_name": "Python 3",
   "language": "python",
   "name": "python3"
  },
  "language_info": {
   "codemirror_mode": {
    "name": "ipython",
    "version": 2
   },
   "file_extension": ".py",
   "mimetype": "text/x-python",
   "name": "python",
   "nbconvert_exporter": "python",
   "pygments_lexer": "ipython2",
   "version": "2.7.6"
  }
 },
 "nbformat": 4,
 "nbformat_minor": 5
}
