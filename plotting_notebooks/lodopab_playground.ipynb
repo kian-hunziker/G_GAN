{
 "cells": [
  {
   "cell_type": "code",
   "execution_count": null,
   "id": "initial_id",
   "metadata": {
    "ExecuteTime": {
     "end_time": "2023-11-30T12:13:37.482795Z",
     "start_time": "2023-11-30T12:13:35.918521Z"
    }
   },
   "outputs": [],
   "source": [
    "import torch\n",
    "from torch.utils.data import DataLoader\n",
    "import numpy as np\n",
    "import matplotlib.pyplot as plt\n",
    "import h5py\n",
    "import patchify\n",
    "\n",
    "from utils.lodopab_dataset import LodopabDataset"
   ]
  },
  {
   "cell_type": "code",
   "execution_count": null,
   "id": "e684ae08a59440a2",
   "metadata": {
    "ExecuteTime": {
     "end_time": "2023-11-30T12:13:37.489762Z",
     "start_time": "2023-11-30T12:13:37.484110Z"
    }
   },
   "outputs": [],
   "source": [
    "file_path = '../datasets/LoDoPaB/ground_truth_train/ground_truth_train_000.hdf5'\n",
    "f = h5py.File(file_path, 'r')\n",
    "dataset = f['data']\n",
    "dataset.shape"
   ]
  },
  {
   "cell_type": "code",
   "execution_count": null,
   "id": "ed56ca6b79ccd63a",
   "metadata": {
    "ExecuteTime": {
     "end_time": "2023-11-30T12:13:37.763347Z",
     "start_time": "2023-11-30T12:13:37.491441Z"
    }
   },
   "outputs": [],
   "source": [
    "fig, ax = plt.subplots(1, 2)\n",
    "ax[0].imshow(dataset[0, :64, :8], )\n",
    "ax[0].grid(False)\n",
    "ax[0].set_title('Slice')\n",
    "ax[1].imshow(dataset[0])\n",
    "ax[1].grid(False)\n",
    "ax[1].set_title('Full example')\n",
    "plt.suptitle('First example')\n",
    "plt.show()"
   ]
  },
  {
   "cell_type": "code",
   "execution_count": null,
   "id": "1ec6b5ee7847d43a",
   "metadata": {
    "ExecuteTime": {
     "end_time": "2023-11-30T12:13:37.855978Z",
     "start_time": "2023-11-30T12:13:37.760697Z"
    }
   },
   "outputs": [],
   "source": [
    "data_range = (np.min(dataset), np.max(dataset))\n",
    "print(f'data range: {data_range}')\n",
    "print(f'num examples: {dataset.shape[0]}')\n",
    "print(f'image size: {dataset.shape[1:]}')"
   ]
  },
  {
   "cell_type": "code",
   "execution_count": null,
   "id": "baaf46bfbd3fe603",
   "metadata": {
    "ExecuteTime": {
     "end_time": "2023-11-30T12:13:37.856203Z",
     "start_time": "2023-11-30T12:13:37.847659Z"
    }
   },
   "outputs": [],
   "source": [
    "N = dataset.shape[-1]\n",
    "P = 8\n",
    "patches = patchify.patchify(dataset[0], patch_size=(P, P), step=1)"
   ]
  },
  {
   "cell_type": "code",
   "execution_count": null,
   "id": "2ad5dddd9435d4ee",
   "metadata": {
    "ExecuteTime": {
     "end_time": "2023-11-30T12:13:38.611542Z",
     "start_time": "2023-11-30T12:13:37.888175Z"
    }
   },
   "outputs": [],
   "source": [
    "fig, ax = plt.subplots(8, 8)\n",
    "for i in range(8):\n",
    "    for j in range(8):\n",
    "        a = ax[i, j]\n",
    "        a.imshow(patches[8 * i + j, 0], )\n",
    "        a.get_xaxis().set_ticks([])\n",
    "        a.get_yaxis().set_ticks([])\n",
    "plt.suptitle('First 64 patches')\n",
    "plt.show()"
   ]
  },
  {
   "cell_type": "code",
   "execution_count": null,
   "id": "310a9ecce1e42757",
   "metadata": {
    "ExecuteTime": {
     "end_time": "2023-11-30T12:13:38.627739Z",
     "start_time": "2023-11-30T12:13:38.612393Z"
    }
   },
   "outputs": [],
   "source": [
    "flat_patches = patches.reshape(-1, P, P)\n",
    "n_patches_per_image = flat_patches.shape[0]\n",
    "n_patches_calc = (N - P + 1) ** 2\n",
    "\n",
    "print(f'calculated number of patches per image: {n_patches_calc}')\n",
    "print(f'actual number of patches per image: {n_patches_per_image}')\n",
    "print(f'total number of patches: {128 * n_patches_per_image}')"
   ]
  },
  {
   "cell_type": "code",
   "execution_count": null,
   "id": "802dc2f0c67809cf",
   "metadata": {
    "ExecuteTime": {
     "end_time": "2023-11-30T12:13:39.957152Z",
     "start_time": "2023-11-30T12:13:38.627204Z"
    }
   },
   "outputs": [],
   "source": [
    "lodo_dataset = LodopabDataset(file_path=file_path, patch_size=8, print_output=True)\n",
    "lodo_loader = DataLoader(lodo_dataset, batch_size=126025, shuffle=False)"
   ]
  },
  {
   "cell_type": "code",
   "execution_count": null,
   "id": "459ad564cc012593",
   "metadata": {
    "ExecuteTime": {
     "end_time": "2023-11-30T12:13:40.756542Z",
     "start_time": "2023-11-30T12:13:39.958774Z"
    }
   },
   "outputs": [],
   "source": [
    "loaded_patches = next(iter(lodo_loader)).reshape(355, 355, 1, 8, 8).squeeze().numpy()\n",
    "loaded_patches.shape"
   ]
  },
  {
   "cell_type": "code",
   "execution_count": null,
   "id": "9b3780931a32deda",
   "metadata": {
    "ExecuteTime": {
     "end_time": "2023-11-30T12:13:40.881959Z",
     "start_time": "2023-11-30T12:13:40.757711Z"
    }
   },
   "outputs": [],
   "source": [
    "reconstructed_image = patchify.unpatchify(loaded_patches, (362, 362))\n",
    "\n",
    "plt.imshow(reconstructed_image)\n",
    "plt.grid(False)\n",
    "plt.suptitle('Reconstruction')\n",
    "plt.show()"
   ]
  },
  {
   "cell_type": "code",
   "execution_count": null,
   "id": "3e3b9dea77a5cd66",
   "metadata": {
    "ExecuteTime": {
     "end_time": "2023-11-30T12:13:40.883034Z",
     "start_time": "2023-11-30T12:13:40.881772Z"
    }
   },
   "outputs": [],
   "source": []
  }
 ],
 "metadata": {
  "kernelspec": {
   "display_name": "Python 3",
   "language": "python",
   "name": "python3"
  },
  "language_info": {
   "codemirror_mode": {
    "name": "ipython",
    "version": 2
   },
   "file_extension": ".py",
   "mimetype": "text/x-python",
   "name": "python",
   "nbconvert_exporter": "python",
   "pygments_lexer": "ipython2",
   "version": "2.7.6"
  }
 },
 "nbformat": 4,
 "nbformat_minor": 5
}
