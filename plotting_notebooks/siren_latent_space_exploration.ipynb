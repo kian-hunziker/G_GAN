{
 "cells": [
  {
   "cell_type": "code",
   "execution_count": null,
   "id": "initial_id",
   "metadata": {
    "ExecuteTime": {
     "end_time": "2023-12-14T14:33:58.187119Z",
     "start_time": "2023-12-14T14:33:58.169107Z"
    }
   },
   "outputs": [],
   "source": [
    "import torch\n",
    "import numpy as np\n",
    "from sklearn.utils.extmath import randomized_svd\n",
    "from sklearn.decomposition import TruncatedSVD\n",
    "\n",
    "import matplotlib.pyplot as plt\n",
    "from matplotlib.widgets import Slider\n",
    "import seaborn as sns\n",
    "\n",
    "from tqdm import tqdm\n",
    "\n",
    "import h5py\n",
    "\n",
    "from utils.checkpoints import load_siren_from_checkpoint\n",
    "from utils.siren_utils import get_transposed_mgrid\n",
    "\n",
    "%matplotlib notebook"
   ]
  },
  {
   "cell_type": "code",
   "execution_count": null,
   "id": "2e44ddbee3631de4",
   "metadata": {
    "ExecuteTime": {
     "end_time": "2023-12-14T14:29:45.120992Z",
     "start_time": "2023-12-14T14:29:45.035150Z"
    }
   },
   "outputs": [],
   "source": [
    "def slider_plot_latent_dim(latent_matrix, img_real, normalize_per_dimension=True, cm='magma'):\n",
    "    if isinstance(latent_matrix, torch.Tensor):\n",
    "        max_z = torch.max(latent_matrix)\n",
    "        min_z = torch.min(latent_matrix)\n",
    "    else:\n",
    "        max_z = np.max(latent_matrix)\n",
    "        min_z = np.min(latent_matrix)\n",
    "    \n",
    "    fig, axes = plt.subplots(1, 2, figsize=(11, 6))\n",
    "    \n",
    "    # display real image on the left\n",
    "    im_real = axes[0].imshow(img_real, cmap='gray')\n",
    "    axes[0].get_xaxis().set_ticks([])\n",
    "    axes[0].get_yaxis().set_ticks([])\n",
    "    fig.colorbar(im_real, ax=axes[0])\n",
    "    \n",
    "    # display initial latent dimension\n",
    "    if normalize_per_dimension:\n",
    "        im = axes[1].imshow(latent_matrix[:, :, 0], cmap=cm)\n",
    "    else:\n",
    "        im = axes[1].imshow(latent_matrix[:, :, 0], vmax=max_z, vmin=min_z, cmap=cm)\n",
    "    fig.colorbar(im, ax=axes[1])\n",
    "    axes[1].get_xaxis().set_ticks([])\n",
    "    axes[1].get_yaxis().set_ticks([])\n",
    "    \n",
    "    # setup slider\n",
    "    n_dim = latent_matrix.shape[-1]\n",
    "    slider_ax = fig.add_axes([0.25, 0.1, 0.65, 0.03])\n",
    "    dim_slider = Slider(ax=slider_ax, label='Dimension', orientation='horizontal', \n",
    "                        valinit=1, valmin=1, valmax=n_dim, valstep=1, closedmax=True)\n",
    "    \n",
    "    fig.subplots_adjust(bottom=0.25)\n",
    "    axes[0].set_title('Target image')\n",
    "    axes[1].set_title('Latent representation')\n",
    "    plt.grid(False)\n",
    "    \n",
    "    def dim_update(val):\n",
    "        idx = dim_slider.val - 1\n",
    "        \n",
    "        if normalize_per_dimension:\n",
    "            # remove colorbar\n",
    "            axes[1].images[-1].colorbar.remove()\n",
    "            # update image\n",
    "            temp_im = axes[1].imshow(latent_matrix[:, :, idx], cmap=cm)\n",
    "            # update colorbar\n",
    "            fig.colorbar(temp_im, ax=axes[1])\n",
    "        else:\n",
    "            axes[1].imshow(latent_matrix[:, :, idx], vmax=max_z, vmin=min_z, cmap=cm)\n",
    "    \n",
    "    dim_slider.on_changed(dim_update)\n",
    "    plt.suptitle('Single latent dimensions')\n",
    "    \n",
    "    plt.show()"
   ]
  },
  {
   "cell_type": "code",
   "execution_count": null,
   "id": "7e568f866c85c3c5",
   "metadata": {
    "ExecuteTime": {
     "end_time": "2023-12-14T14:29:45.195113Z",
     "start_time": "2023-12-14T14:29:45.044138Z"
    }
   },
   "outputs": [],
   "source": [
    "model_path = '../trained_models/siren/2023-12-08_16:02:59/checkpoint_26000'\n",
    "img_path = '../datasets/LoDoPaB/ground_truth_train/ground_truth_train_000.hdf5'\n",
    "\n",
    "# load SIREN\n",
    "siren = load_siren_from_checkpoint(model_path)\n",
    "\n",
    "# load actual image\n",
    "img_idx = torch.load(model_path, map_location='cpu')['img_idx']\n",
    "real_image = h5py.File(img_path)['data'][img_idx]\n",
    "\n",
    "# get input coords for SIREN\n",
    "latent_dim = 64\n",
    "coord_side_length = 2 * 355\n",
    "coords = get_transposed_mgrid(coord_side_length)\n",
    "print(f'coords shape: {coords.shape}')"
   ]
  },
  {
   "cell_type": "code",
   "execution_count": null,
   "id": "6b701f83db098296",
   "metadata": {
    "ExecuteTime": {
     "end_time": "2023-12-14T14:29:49.472205Z",
     "start_time": "2023-12-14T14:29:45.202737Z"
    }
   },
   "outputs": [],
   "source": [
    "# Get latent vectors by passing coords to SIREN\n",
    "with torch.no_grad():\n",
    "    z, _ = siren(coords)\n",
    "z_for_plot = z.reshape(coord_side_length, coord_side_length, 64)\n",
    "\n",
    "print(f'z_for_plot.shape: {z_for_plot.shape}')"
   ]
  },
  {
   "cell_type": "code",
   "execution_count": null,
   "id": "fbdeef48a1183e6a",
   "metadata": {
    "ExecuteTime": {
     "end_time": "2023-12-14T14:30:15.298764Z",
     "start_time": "2023-12-14T14:30:15.218799Z"
    }
   },
   "outputs": [],
   "source": [
    "# show latent dimensions from raw z\n",
    "slider_plot_latent_dim(latent_matrix=z_for_plot, img_real=real_image, normalize_per_dimension=True, cm='gray')"
   ]
  },
  {
   "cell_type": "code",
   "execution_count": null,
   "id": "9e34095145085f14",
   "metadata": {
    "ExecuteTime": {
     "end_time": "2023-12-14T14:37:02.769012Z",
     "start_time": "2023-12-14T14:37:00.634949Z"
    }
   },
   "outputs": [],
   "source": [
    "k = 20\n",
    "u, s, vh = randomized_svd(z.numpy(), n_components=k)\n",
    "\n",
    "smat = np.diag(s)\n",
    "\n",
    "reduced_z = np.dot(u, smat)\n",
    "reduced_z_matrix = reduced_z.reshape(coord_side_length, coord_side_length, k)\n",
    "\n",
    "fig, ax = plt.subplots(1, 1)\n",
    "sns.lineplot(s, ax=ax)\n",
    "plt.xlabel('Index')\n",
    "plt.ylabel('Singular value')\n",
    "plt.title(f'First {k} singular values')\n",
    "plt.show()"
   ]
  },
  {
   "cell_type": "code",
   "execution_count": null,
   "id": "c80a4553e19645a1",
   "metadata": {
    "ExecuteTime": {
     "end_time": "2023-12-14T14:35:09.868277Z",
     "start_time": "2023-12-14T14:35:09.786184Z"
    }
   },
   "outputs": [],
   "source": [
    "slider_plot_latent_dim(latent_matrix=reduced_z_matrix, img_real=real_image, normalize_per_dimension=True, cm='magma')"
   ]
  },
  {
   "cell_type": "code",
   "execution_count": null,
   "id": "ed92ca0219b2e1c4",
   "metadata": {
    "ExecuteTime": {
     "end_time": "2023-12-14T14:29:52.236839Z",
     "start_time": "2023-12-14T14:29:50.905424Z"
    }
   },
   "outputs": [],
   "source": [
    "svd = TruncatedSVD(n_components=k)\n",
    "svd.fit(z)\n",
    "reduction_trunc_svd = svd.transform(z).reshape(coord_side_length, coord_side_length, k)"
   ]
  },
  {
   "cell_type": "code",
   "execution_count": null,
   "id": "b09747cc552a2306",
   "metadata": {
    "ExecuteTime": {
     "end_time": "2023-12-14T14:29:52.458155Z",
     "start_time": "2023-12-14T14:29:52.247475Z"
    }
   },
   "outputs": [],
   "source": [
    "slider_plot_latent_dim(latent_matrix=reduction_trunc_svd, img_real=real_image, normalize_per_dimension=True, cm='magma')"
   ]
  },
  {
   "cell_type": "code",
   "execution_count": null,
   "id": "7ef4bc3ff17f81a5",
   "metadata": {
    "ExecuteTime": {
     "end_time": "2023-12-14T14:29:52.458646Z",
     "start_time": "2023-12-14T14:29:52.453132Z"
    }
   },
   "outputs": [],
   "source": [
    "def plot_all_dimensions_one_figure():\n",
    "    fig, ax = plt.subplots(8, 8, figsize=(20, 20))\n",
    "    for i in range(8):\n",
    "        for j in range(8):\n",
    "            a = ax[i, j]\n",
    "            a.imshow(z_for_plot[:, :, 8 * i + j], cmap='magma')\n",
    "            a.get_xaxis().set_ticks([])\n",
    "            a.get_yaxis().set_ticks([])\n",
    "    plt.tight_layout()\n",
    "    plt.show()"
   ]
  },
  {
   "cell_type": "code",
   "execution_count": null,
   "id": "ba4dc4adfea4d1b8",
   "metadata": {
    "ExecuteTime": {
     "start_time": "2023-12-14T14:29:52.463562Z"
    }
   },
   "outputs": [],
   "source": [
    "# Singular Value Decomposition\n",
    "if z.shape[0] <= 100:\n",
    "    U, S, Vh = np.linalg.svd(z.numpy())\n",
    "    print(f'U shape: {U.shape}')\n",
    "    print(f'S shape: {S.shape}')\n",
    "    print(f'Vh shape: {Vh.shape}')\n",
    "    \n",
    "    plt.close()\n",
    "    plt.plot(S)\n",
    "    plt.title('Singular Values')\n",
    "    plt.xlabel('Index')\n",
    "    plt.ylabel('Singular Value')\n",
    "    plt.show()\n",
    "    \n",
    "    k = 10\n",
    "    \n",
    "    smat = np.zeros((U.shape[-1], Vh.shape[0]))\n",
    "    reduced_diag = np.diag(S[:k])\n",
    "    smat[:k, :k] = reduced_diag\n",
    "    \n",
    "    #recon = np.dot(U[:, :k], np.dot(smat[:k, :k], Vh[:k, :]))\n",
    "    reduced_z = np.dot(U[:, :k], smat[:k, :k])\n",
    "    reduced_z_matrix = reduced_z.reshape(coord_side_length, coord_side_length, k)"
   ]
  },
  {
   "cell_type": "code",
   "execution_count": null,
   "id": "329402d5ef90856",
   "metadata": {
    "ExecuteTime": {
     "end_time": "2023-12-14T14:29:52.522017Z",
     "start_time": "2023-12-14T14:29:52.475232Z"
    }
   },
   "outputs": [],
   "source": [
    "slider_plot_latent_dim(latent_matrix=reduced_z_matrix, img_real=real_image, normalize_per_dimension=True, cm='magma')"
   ]
  }
 ],
 "metadata": {
  "kernelspec": {
   "display_name": "Python 3",
   "language": "python",
   "name": "python3"
  },
  "language_info": {
   "codemirror_mode": {
    "name": "ipython",
    "version": 2
   },
   "file_extension": ".py",
   "mimetype": "text/x-python",
   "name": "python",
   "nbconvert_exporter": "python",
   "pygments_lexer": "ipython2",
   "version": "2.7.6"
  }
 },
 "nbformat": 4,
 "nbformat_minor": 5
}
