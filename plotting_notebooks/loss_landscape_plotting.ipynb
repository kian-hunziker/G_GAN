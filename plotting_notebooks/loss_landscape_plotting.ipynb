{
 "cells": [
  {
   "cell_type": "code",
   "execution_count": null,
   "id": "initial_id",
   "metadata": {
    "ExecuteTime": {
     "end_time": "2023-11-22T14:20:13.754942Z",
     "start_time": "2023-11-22T14:20:12.055796Z"
    }
   },
   "outputs": [],
   "source": [
    "import os\n",
    "import torch\n",
    "import numpy as np\n",
    "import matplotlib\n",
    "import matplotlib.pyplot as plt\n",
    "from matplotlib import cm\n",
    "from matplotlib.widgets import Slider\n",
    "import seaborn as sns\n",
    "import plotly.graph_objects as go\n",
    "import plotly.express as px\n",
    "from scipy import ndimage\n",
    "\n",
    "from utils.dataLoaders import get_rotated_mnist_dataloader\n",
    "from utils.checkpoints import load_gen_disc_from_checkpoint, load_checkpoint, print_checkpoint\n",
    "\n",
    "from single_regression import get_trace_single_regression, get_start_position\n",
    "\n",
    "%matplotlib notebook\n",
    "#matplotlib.use(\"nbagg\")"
   ]
  },
  {
   "cell_type": "code",
   "execution_count": null,
   "id": "7288e7d0df4dcd0f",
   "metadata": {
    "ExecuteTime": {
     "end_time": "2023-11-22T14:20:13.794541Z",
     "start_time": "2023-11-22T14:20:13.743309Z"
    }
   },
   "outputs": [],
   "source": [
    "def plot_comparison(tar: torch.Tensor, approx: torch.Tensor, title: str):\n",
    "    with plt.ioff():\n",
    "        fig, ax = plt.subplots(1, 2)\n",
    "        ax[0].imshow(tar.detach().cpu().numpy(), cmap='gray')\n",
    "        ax[0].set_title('Target')\n",
    "        ax[1].imshow(approx.detach().cpu().numpy(), cmap='gray')\n",
    "        ax[1].set_title('Approximation')\n",
    "        plt.suptitle(title)\n",
    "        plt.show()\n",
    "    \n",
    "    #matplotlib.pyplot.close()"
   ]
  },
  {
   "cell_type": "code",
   "execution_count": null,
   "id": "a7626b23b9dea66f",
   "metadata": {
    "ExecuteTime": {
     "end_time": "2023-11-22T14:20:29.211706Z",
     "start_time": "2023-11-22T14:20:13.799448Z"
    }
   },
   "outputs": [],
   "source": [
    "device = 'cpu'\n",
    "\n",
    "IMG_SIZE = 28\n",
    "\n",
    "checkpoint_path = '../trained_models/p4_rot_mnist/2023-11-09_18:14:22/checkpoint_20000'\n",
    "#checkpoint_path = '../trained_models/z2_rot_mnist/2023-11-10_08:29:53/checkpoint_20000'\n",
    "#checkpoint_path = '../trained_models/vanilla_small/2023-11-10_09:14:25/checkpoint_20000'\n",
    "gen, _ = load_gen_disc_from_checkpoint(checkpoint_path, device=device, print_to_console=True)\n",
    "checkpoint = load_checkpoint(checkpoint_path)\n",
    "print_checkpoint(checkpoint)\n",
    "LATENT_DIM = checkpoint['latent_dim']\n",
    "gen_arch = checkpoint['gen_arch']\n",
    "gen.eval()\n",
    "\n",
    "max_x_y = 3\n",
    "grid_size = 1000\n",
    "inc = 2 * max_x_y / np.sqrt(grid_size)\n",
    "\n",
    "x = np.arange(-max_x_y, max_x_y, inc)\n",
    "y = np.arange(-max_x_y, max_x_y, inc)\n",
    "grid_size = len(x) * len(y)\n",
    "grid = np.meshgrid(x, y)\n",
    "inputs = torch.from_numpy(np.array(grid).T.reshape(-1, 2)).type(torch.float32)\n",
    "\n",
    "project_root = os.getcwd()\n",
    "test_dataset, loader = get_rotated_mnist_dataloader(root='..',\n",
    "                                                    batch_size=1,\n",
    "                                                    shuffle=False,\n",
    "                                                    one_hot_encode=True,\n",
    "                                                    num_examples=10000,\n",
    "                                                    num_rotations=0,\n",
    "                                                    train=False,\n",
    "                                                    single_class=None)\n",
    "\n",
    "loader_iterator = iter(loader)\n",
    "target_images, input_labels = next(loader_iterator)\n",
    "#target_images, input_labels = next(loader_iterator)\n",
    "#target_images, input_labels = next(loader_iterator)\n",
    "#target_images, input_labels = next(loader_iterator)\n",
    "target_images = target_images.to(device)\n",
    "input_labels = input_labels.repeat(grid_size, 1).type(torch.float32).to(device)\n",
    "\n",
    "out = gen(inputs, input_labels)\n",
    "with torch.no_grad():\n",
    "    loss = torch.mean(torch.nn.functional.mse_loss(out, target_images.repeat(grid_size, 1, 1, 1), reduction='none'), dim=(1,2,3))\n",
    "loss = loss.detach().cpu().numpy().reshape(len(x), len(y))"
   ]
  },
  {
   "cell_type": "code",
   "execution_count": null,
   "id": "3b4dd2cbcf5186e6",
   "metadata": {
    "ExecuteTime": {
     "end_time": "2023-11-22T14:20:32.000589Z",
     "start_time": "2023-11-22T14:20:29.210774Z"
    }
   },
   "outputs": [],
   "source": [
    "'''\n",
    "3D SURFACE PLOT OF LOSS LANDSCAPE\n",
    "Show potential start positions and regression path\n",
    "'''\n",
    "n_iter = 20\n",
    "label = int(torch.where(input_labels[0] == 1)[0])\n",
    "start_vec, start_pos_data = get_start_position(gen, 2, target_images, label, n_start_pos=10)\n",
    "#start_vec = torch.tensor([0,0])\n",
    "trace_data, reg_images = get_trace_single_regression(gen, start_vec, target_images, label=label, \n",
    "                                                     lr=0.01, n_iter=n_iter, ret_intermediate_images=True)\n",
    "\n",
    "fig = go.Figure()\n",
    "fig.add_surface(x=grid[1], y=grid[0], z=loss)\n",
    "fig.add_scatter3d(x=start_pos_data[0], y=start_pos_data[1], z=start_pos_data[2], mode='markers')\n",
    "fig.add_scatter3d(x=trace_data[0], y=trace_data[1], z=trace_data[2])\n",
    "fig.add_scatter3d(x=[trace_data[0][0]], y=[trace_data[1][0]], z=[trace_data[2][0]], marker=dict(symbol='diamond'))\n",
    "title = f'Loss Landscape: {gen_arch}'\n",
    "\n",
    "fig.update_layout(title=title, autosize=False,\n",
    "                  width=800, height=600,\n",
    "                  margin=dict(l=65, r=50, b=65, t=90),\n",
    "                  )\n",
    "\n",
    "fig.show()"
   ]
  },
  {
   "cell_type": "code",
   "execution_count": null,
   "id": "decaada042e9f420",
   "metadata": {
    "ExecuteTime": {
     "end_time": "2023-11-22T14:20:32.000883Z",
     "start_time": "2023-11-22T14:20:31.931180Z"
    }
   },
   "outputs": [],
   "source": [
    "'''\n",
    "VISUALIZE REGRESSION RESULTS\n",
    "'''\n",
    "fig= plt.figure(figsize=(9, 5))\n",
    "n_iterations = len(trace_data[0])\n",
    "\n",
    "a0 = plt.subplot(1, 2, 1)\n",
    "a1 = plt.subplot(1, 4, 3)\n",
    "a2 = plt.subplot(1, 4, 4)\n",
    "\n",
    "ax = [a0, a1, a2]\n",
    "\n",
    "log_loss = np.log(trace_data[-1])\n",
    "slider_ax = fig.add_axes([0.25, 0.1, 0.65, 0.03])\n",
    "iter_slider = Slider(ax=slider_ax, label='Iteration', orientation='horizontal', \n",
    "                valinit=0, valmin=0, valmax=n_iterations, valstep=1, closedmax=False)\n",
    "sns.lineplot(log_loss, ax=ax[0])\n",
    "ax[0].plot(0, log_loss[0], 'ko')\n",
    "ax[0].annotate('hoi', xy=(0, 0))\n",
    "\n",
    "ax[1].imshow(reg_images[0], cmap='gray')\n",
    "ax[2].imshow(target_images[0, 0], cmap='gray')\n",
    "ax[0].set_title('log(MSE) over iterations')\n",
    "ax[0].set_xlabel('Iteration')\n",
    "ax[0].set_ylabel('log(MSE)')\n",
    "ax[1].set_title('Approximation')\n",
    "ax[2].set_title('Target')\n",
    "ax[1].grid(False)\n",
    "ax[2].grid(False)\n",
    "fig.subplots_adjust(bottom=0.25)\n",
    "\n",
    "def iter_update(val):\n",
    "    idx = iter_slider.val\n",
    "    ax[0].cla()\n",
    "    sns.lineplot(log_loss, ax=ax[0])\n",
    "    ax[0].plot(idx, log_loss[idx], 'ko', )\n",
    "    ax[0].annotate(f'   {log_loss[idx]:.2f}\\n', xy=(idx, log_loss[idx]), xytext=(idx, log_loss[idx]))\n",
    "    ax[0].set_title('log(MSE) over iterations')\n",
    "    ax[0].set_xlabel('Iteration')\n",
    "    ax[0].set_ylabel('log(MSE)')\n",
    "    ax[1].imshow(reg_images[idx], cmap='gray')\n",
    "    \n",
    "iter_slider.on_changed(iter_update)\n",
    "\n",
    "plt.show()"
   ]
  },
  {
   "cell_type": "code",
   "execution_count": null,
   "id": "beb909a335f7201",
   "metadata": {
    "ExecuteTime": {
     "end_time": "2023-11-22T14:22:42.379066Z",
     "start_time": "2023-11-22T14:22:42.306625Z"
    }
   },
   "outputs": [],
   "source": [
    "'''\n",
    "VISUALIZE GENERATOR OUTPUT FOR X, Y INPUT COORDINATES\n",
    "'''\n",
    "plt.ion()\n",
    "fig, ax = plt.subplots()\n",
    "images = out.squeeze().detach().cpu().numpy().reshape(len(x), len(y), 28, 28)\n",
    "fig.subplots_adjust(left=0.25, bottom=0.25)\n",
    "y_ax = fig.add_axes([0.1, 0.25, 0.0225, 0.63])\n",
    "x_ax = fig.add_axes([0.25, 0.1, 0.65, 0.03])\n",
    "y_slider = Slider(ax=y_ax, label='y', orientation='vertical', valinit=0, valmin=-max_x_y, valmax=max_x_y, valstep=inc, closedmax=False)\n",
    "x_slider = Slider(ax=x_ax, label='x', valinit=0, valmin=-max_x_y, valmax=max_x_y, valstep=inc, closedmax=False)\n",
    "ax.imshow(images[len(x)//2, len(y)//2], cmap='gray')\n",
    "ax.grid(False)\n",
    "\n",
    "def update(val):\n",
    "    x_idx = (x_slider.val / (2 * max_x_y) + 0.5) * len(x)\n",
    "    y_idx = (y_slider.val / (2 * max_x_y) + 0.5) * len(x)\n",
    "    ax.imshow(images[int(x_idx), int(y_idx)], cmap='gray')\n",
    "    \n",
    "x_slider.on_changed(update)\n",
    "y_slider.on_changed(update)\n",
    "\n",
    "plt.show()"
   ]
  },
  {
   "cell_type": "code",
   "execution_count": null,
   "id": "1b8d0fc5de208e65",
   "metadata": {
    "ExecuteTime": {
     "end_time": "2023-11-22T14:20:32.212785Z",
     "start_time": "2023-11-22T14:20:32.022725Z"
    }
   },
   "outputs": [],
   "source": [
    "'''\n",
    "PREPARE DATA FOR LANDSCAPE HEATMAPS ON ROTATED TARGETS\n",
    "'''\n",
    "rot_losses = []\n",
    "rot_images = []\n",
    "rot_resolution = 100\n",
    "for i in range(rot_resolution):\n",
    "    angle = i * 360 / rot_resolution\n",
    "    rot_image = ndimage.rotate(target_images.squeeze(), angle, cval=-1, reshape=False)\n",
    "    rot_image_torch = torch.from_numpy(rot_image).unsqueeze(0).unsqueeze(0)\n",
    "    rot_images.append(rot_image)\n",
    "    with torch.no_grad():\n",
    "        rot_loss = torch.mean(torch.nn.functional.mse_loss(out, rot_image_torch.repeat(grid_size, 1, 1, 1), reduction='none'), dim=(1,2,3))\n",
    "    rot_loss = rot_loss.detach().cpu().numpy().reshape(len(x), len(y))\n",
    "    rot_losses.append(rot_loss)"
   ]
  },
  {
   "cell_type": "code",
   "execution_count": null,
   "id": "c53b7d41fe82a1eb",
   "metadata": {
    "ExecuteTime": {
     "end_time": "2023-11-22T14:23:03.794314Z",
     "start_time": "2023-11-22T14:23:03.716141Z"
    }
   },
   "outputs": [],
   "source": [
    "'''\n",
    "VISUALIZE LOSS LANDSCAPE AS HEATMAP FOR ROTATED TARGETS\n",
    "'''\n",
    "fig, ax = plt.subplots(1, 2, figsize=(10, 5))\n",
    "\n",
    "max_loss = max([np.max(l) for l in rot_losses])\n",
    "min_loss = min([np.min(l) for l in rot_losses])\n",
    "\n",
    "# show initial images\n",
    "im = ax[0].imshow(rot_losses[0].T, cmap='magma', vmin=min_loss, vmax=max_loss, extent=[-max_x_y, max_x_y, max_x_y, -max_x_y])\n",
    "ax[1].imshow(rot_images[0], cmap='gray')\n",
    "ax[0].grid(False)\n",
    "ax[0].set_title('Loss Landscape')\n",
    "ax[0].set_xlabel('x')\n",
    "ax[0].set_ylabel('y')\n",
    "fig.colorbar(im, ax=ax[0])\n",
    "ax[1].set_title('Target')\n",
    "ax[1].grid(False)\n",
    "\n",
    "\n",
    "# make space for slider\n",
    "fig.subplots_adjust(bottom=0.25)\n",
    "\n",
    "n_rotations = len(rot_losses)\n",
    "angle_inc = 360 / n_rotations\n",
    "slider_ax = fig.add_axes([0.25, 0.1, 0.65, 0.03])\n",
    "rot_slider = Slider(ax=slider_ax, label='Rotation', orientation='horizontal', \n",
    "                valinit=0, valmin=0, valmax=360, valstep=angle_inc, closedmax=True)\n",
    "\n",
    "def rot_update(val):\n",
    "    idx = int(rot_slider.val // angle_inc % n_rotations)\n",
    "    ax[0].cla()\n",
    "    ax[0].imshow(rot_losses[idx], cmap='magma', extent=[-max_x_y, max_x_y, max_x_y, -max_x_y])\n",
    "    ax[0].grid(False)\n",
    "    ax[0].set_title('Loss Landscape')\n",
    "    ax[0].set_xlabel('x')\n",
    "    ax[0].set_ylabel('y')\n",
    "    ax[1].imshow(rot_images[idx], cmap='gray')\n",
    "    \n",
    "rot_slider.on_changed(rot_update)\n",
    "plt.show()"
   ]
  },
  {
   "cell_type": "code",
   "execution_count": null,
   "id": "bd3c9153a5fb2447",
   "metadata": {
    "ExecuteTime": {
     "end_time": "2023-11-22T14:20:32.462313Z",
     "start_time": "2023-11-22T14:20:32.432497Z"
    }
   },
   "outputs": [],
   "source": [
    "# classic matplotlib version:\n",
    "#fig, ax = plt.subplots(subplot_kw={\"projection\": \"3d\"})\n",
    "#surf = ax.plot_surface(grid[1], grid[0], loss, cmap=cm.coolwarm, linewidth=0, antialiased=False)\n",
    "#plt.show()\n",
    "import plotly.graph_objects as go\n",
    "fig = go.Figure(data=[go.Surface(x=grid[1], y=grid[0], z=loss)])\n",
    "\n",
    "fig.update_layout(title='Loss Landscape', autosize=False,\n",
    "                  width=800, height=600,\n",
    "                  margin=dict(l=65, r=50, b=65, t=90))\n",
    "\n",
    "fig.show()"
   ]
  },
  {
   "cell_type": "code",
   "execution_count": null,
   "id": "8b3a93a2a8a7821",
   "metadata": {
    "ExecuteTime": {
     "end_time": "2023-11-22T14:20:32.544378Z",
     "start_time": "2023-11-22T14:20:32.462847Z"
    }
   },
   "outputs": [],
   "source": [
    "'''\n",
    "FIND AND PLOT BEST APPROXIMATION BASED ON LOSS LANDSCAPE\n",
    "'''\n",
    "min_index = np.unravel_index(np.argmin(loss, axis=None), loss.shape)\n",
    "min_x = grid[1][min_index[0], 0]\n",
    "min_y = grid[0][0, min_index[1]]\n",
    "#print(min_x, min_y)\n",
    "min_coords = torch.tensor([min_x, min_y]).type(torch.float32).unsqueeze(0)\n",
    "best_approx = gen(min_coords, input_labels[0].unsqueeze(0))\n",
    "min_loss = torch.nn.functional.mse_loss(best_approx, target_images[0].unsqueeze(0))\n",
    "plot_comparison(target_images[0, 0], best_approx[0, 0], f'best approximation\\nx: {min_x:.2f}, y: {min_y:.2f}\\nloss: {min_loss:.2f}')"
   ]
  },
  {
   "cell_type": "code",
   "execution_count": null,
   "id": "d639e89609ea267",
   "metadata": {
    "ExecuteTime": {
     "end_time": "2023-11-22T14:20:32.629701Z",
     "start_time": "2023-11-22T14:20:32.545878Z"
    }
   },
   "outputs": [],
   "source": [
    "sanity_check_input = torch.tensor([-0.0, -0.0]).type(torch.float32).unsqueeze(0)\n",
    "o = gen(sanity_check_input, input_labels[0].unsqueeze(0))\n",
    "l = torch.nn.functional.mse_loss(o, target_images[0].unsqueeze(0))\n",
    "print(l)\n",
    "plot_comparison(target_images[0, 0], o[0, 0], f'x: {sanity_check_input[0, 0]:.2f}, y: {sanity_check_input[0, 1]:.2f}\\nloss: {l:.3f}')"
   ]
  },
  {
   "cell_type": "code",
   "execution_count": null,
   "id": "a223e67562868ccd",
   "metadata": {
    "ExecuteTime": {
     "end_time": "2023-11-22T14:20:32.644351Z",
     "start_time": "2023-11-22T14:20:32.629348Z"
    }
   },
   "outputs": [],
   "source": []
  }
 ],
 "metadata": {
  "kernelspec": {
   "display_name": "Python 3",
   "language": "python",
   "name": "python3"
  },
  "language_info": {
   "codemirror_mode": {
    "name": "ipython",
    "version": 2
   },
   "file_extension": ".py",
   "mimetype": "text/x-python",
   "name": "python",
   "nbconvert_exporter": "python",
   "pygments_lexer": "ipython2",
   "version": "2.7.6"
  }
 },
 "nbformat": 4,
 "nbformat_minor": 5
}
