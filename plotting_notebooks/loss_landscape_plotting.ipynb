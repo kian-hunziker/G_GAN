{
 "cells": [
  {
   "cell_type": "code",
   "execution_count": null,
   "id": "initial_id",
   "metadata": {
    "ExecuteTime": {
     "end_time": "2023-11-11T13:55:26.210664Z",
     "start_time": "2023-11-11T13:55:26.177479Z"
    }
   },
   "outputs": [],
   "source": [
    "import os\n",
    "import torch\n",
    "import numpy as np\n",
    "%matplotlib ipympl\n",
    "import matplotlib\n",
    "matplotlib.use(\"nbagg\")\n",
    "import matplotlib.pyplot as plt\n",
    "from matplotlib import cm\n",
    "from matplotlib.widgets import Slider\n",
    "import seaborn as sns\n",
    "\n",
    "from utils.dataLoaders import get_rotated_mnist_dataloader\n",
    "from utils.checkpoints import load_gen_disc_from_checkpoint, load_checkpoint, print_checkpoint"
   ]
  },
  {
   "cell_type": "code",
   "execution_count": null,
   "id": "7288e7d0df4dcd0f",
   "metadata": {
    "ExecuteTime": {
     "end_time": "2023-11-11T13:55:26.213199Z",
     "start_time": "2023-11-11T13:55:26.184762Z"
    }
   },
   "outputs": [],
   "source": [
    "def plot_comparison(tar: torch.Tensor, approx: torch.Tensor, title: str):\n",
    "    fig, ax = plt.subplots(1, 2)\n",
    "    ax[0].imshow(tar.detach().cpu().numpy(), cmap='gray')\n",
    "    ax[0].set_title('Target')\n",
    "    ax[1].imshow(approx.detach().cpu().numpy(), cmap='gray')\n",
    "    ax[1].set_title('Approximation')\n",
    "    plt.suptitle(title)\n",
    "    plt.show()"
   ]
  },
  {
   "cell_type": "code",
   "execution_count": null,
   "id": "a7626b23b9dea66f",
   "metadata": {
    "ExecuteTime": {
     "start_time": "2023-11-11T13:55:26.191606Z"
    },
    "is_executing": true
   },
   "outputs": [],
   "source": [
    "device = 'cpu'\n",
    "\n",
    "IMG_SIZE = 28\n",
    "\n",
    "checkpoint_path = '../trained_models/p4_rot_mnist/2023-11-09_18:14:22/checkpoint_20000'\n",
    "gen, _ = load_gen_disc_from_checkpoint(checkpoint_path, device=device, print_to_console=True)\n",
    "checkpoint = load_checkpoint(checkpoint_path)\n",
    "print_checkpoint(checkpoint)\n",
    "LATENT_DIM = checkpoint['latent_dim']\n",
    "gen.eval()\n",
    "\n",
    "max_x_y = 3\n",
    "grid_size = 3000\n",
    "inc = 2 * max_x_y / np.sqrt(grid_size)\n",
    "\n",
    "x = np.arange(-max_x_y, max_x_y, inc)\n",
    "y = np.arange(-max_x_y, max_x_y, inc)\n",
    "grid_size = len(x) * len(y)\n",
    "grid = np.meshgrid(x, y)\n",
    "inputs = torch.from_numpy(np.array(grid).T.reshape(-1, 2)).type(torch.float32)\n",
    "\n",
    "project_root = os.getcwd()\n",
    "test_dataset, loader = get_rotated_mnist_dataloader(root='..',\n",
    "                                                    batch_size=1,\n",
    "                                                    shuffle=False,\n",
    "                                                    one_hot_encode=True,\n",
    "                                                    num_examples=10000,\n",
    "                                                    num_rotations=0,\n",
    "                                                    train=False,\n",
    "                                                    single_class=None)\n",
    "\n",
    "loader_iterator = iter(loader)\n",
    "target_images, input_labels = next(loader_iterator)\n",
    "#target_images, input_labels = next(loader_iterator)\n",
    "#target_images, input_labels = next(loader_iterator)\n",
    "#target_images, input_labels = next(loader_iterator)\n",
    "target_images = target_images.to(device)\n",
    "input_labels = input_labels.repeat(grid_size, 1).type(torch.float32).to(device)\n",
    "\n",
    "out = gen(inputs, input_labels)\n",
    "loss = torch.mean(torch.nn.functional.mse_loss(out, target_images.repeat(grid_size, 1, 1, 1), reduction='none'), dim=(1,2,3))\n",
    "loss = loss.detach().cpu().numpy().reshape(len(x), len(y))"
   ]
  },
  {
   "cell_type": "code",
   "execution_count": null,
   "id": "fd8c7e45d8a0433a",
   "metadata": {
    "is_executing": true
   },
   "outputs": [],
   "source": [
    "fig, ax = plt.subplots()\n",
    "images = out.squeeze().detach().cpu().numpy().reshape(len(x), len(y), 28, 28)\n",
    "fig.subplots_adjust(left=0.25, bottom=0.25)\n",
    "y_ax = fig.add_axes([0.1, 0.25, 0.0225, 0.63])\n",
    "x_ax = fig.add_axes([0.25, 0.1, 0.65, 0.03])\n",
    "y_slider = Slider(ax=y_ax, label='y', orientation='vertical', valinit=0, valmin=-max_x_y, valmax=max_x_y, valstep=inc, closedmax=False)\n",
    "x_slider = Slider(ax=x_ax, label='x', valinit=0, valmin=-max_x_y, valmax=max_x_y, valstep=inc, closedmax=False)\n",
    "ax.imshow(images[len(x)//2, len(y)//2], cmap='gray')\n",
    "ax.grid(False)\n",
    "\n",
    "def update(val):\n",
    "    x_idx = (x_slider.val / (2 * max_x_y) + 0.5) * len(x)\n",
    "    y_idx = (y_slider.val / (2 * max_x_y) + 0.5) * len(x)\n",
    "    ax.imshow(images[int(x_idx), int(y_idx)], cmap='gray')\n",
    "    \n",
    "x_slider.on_changed(update)\n",
    "y_slider.on_changed(update)\n",
    "\n",
    "plt.show()"
   ]
  },
  {
   "cell_type": "code",
   "execution_count": null,
   "id": "bd3c9153a5fb2447",
   "metadata": {
    "is_executing": true
   },
   "outputs": [],
   "source": [
    "# classic matplotlib version:\n",
    "#fig, ax = plt.subplots(subplot_kw={\"projection\": \"3d\"})\n",
    "#surf = ax.plot_surface(grid[1], grid[0], loss, cmap=cm.coolwarm, linewidth=0, antialiased=False)\n",
    "#plt.show()\n",
    "import plotly.graph_objects as go\n",
    "fig = go.Figure(data=[go.Surface(x=grid[1], y=grid[0], z=loss)])\n",
    "\n",
    "fig.update_layout(title='Loss Landscape', autosize=False,\n",
    "                  width=800, height=600,\n",
    "                  margin=dict(l=65, r=50, b=65, t=90))\n",
    "\n",
    "fig.show()"
   ]
  },
  {
   "cell_type": "code",
   "execution_count": null,
   "id": "8b3a93a2a8a7821",
   "metadata": {
    "is_executing": true
   },
   "outputs": [],
   "source": [
    "'''\n",
    "FIND AND PLOT BEST APPROXIMATION BASED ON LOSS LANDSCAPE\n",
    "'''\n",
    "min_index = np.unravel_index(np.argmin(loss, axis=None), loss.shape)\n",
    "min_x = grid[1][min_index[0], 0]\n",
    "min_y = grid[0][0, min_index[1]]\n",
    "#print(min_x, min_y)\n",
    "min_coords = torch.tensor([min_x, min_y]).type(torch.float32).unsqueeze(0)\n",
    "best_approx = gen(min_coords, input_labels[0].unsqueeze(0))\n",
    "min_loss = torch.nn.functional.mse_loss(best_approx, target_images[0].unsqueeze(0))\n",
    "plot_comparison(target_images[0, 0], best_approx[0, 0], f'best approximation\\nx: {min_x:.2f}, y: {min_y:.2f}\\nloss: {min_loss:.2f}')"
   ]
  },
  {
   "cell_type": "code",
   "execution_count": null,
   "id": "d639e89609ea267",
   "metadata": {
    "is_executing": true
   },
   "outputs": [],
   "source": [
    "sanity_check_input = torch.tensor([3, -3]).type(torch.float32).unsqueeze(0)\n",
    "o = gen(sanity_check_input, input_labels[0].unsqueeze(0))\n",
    "l = torch.nn.functional.mse_loss(o, target_images[0].unsqueeze(0))\n",
    "print(l)\n",
    "plot_comparison(target_images[0, 0], o[0, 0], f'x: {sanity_check_input[0, 0]:.2f}, y: {sanity_check_input[0, 1]:.2f}')"
   ]
  },
  {
   "cell_type": "code",
   "execution_count": null,
   "id": "5bf9c1abb7692349",
   "metadata": {
    "is_executing": true
   },
   "outputs": [],
   "source": []
  }
 ],
 "metadata": {
  "kernelspec": {
   "display_name": "Python 3",
   "language": "python",
   "name": "python3"
  },
  "language_info": {
   "codemirror_mode": {
    "name": "ipython",
    "version": 2
   },
   "file_extension": ".py",
   "mimetype": "text/x-python",
   "name": "python",
   "nbconvert_exporter": "python",
   "pygments_lexer": "ipython2",
   "version": "2.7.6"
  }
 },
 "nbformat": 4,
 "nbformat_minor": 5
}
